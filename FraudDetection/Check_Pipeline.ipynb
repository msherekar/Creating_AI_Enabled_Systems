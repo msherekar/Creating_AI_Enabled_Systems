{
 "cells": [
  {
   "cell_type": "code",
   "execution_count": 4,
   "id": "fad490b6-e4a3-4c82-8867-64fb7772d185",
   "metadata": {
    "tags": []
   },
   "outputs": [],
   "source": [
    "from data_pipeline import ETL_Pipeline\n",
    "from dataset import Fraud_Dataset\n",
    "from model import Fraud_Detector_Model\n",
    "from metrics import Metrics"
   ]
  },
  {
   "cell_type": "code",
   "execution_count": null,
   "id": "907e062e-6c32-4055-adbf-eed9f47c2ea9",
   "metadata": {},
   "outputs": [],
   "source": []
  },
  {
   "cell_type": "code",
   "execution_count": 21,
   "id": "7b232d93-9c65-4e9e-aab2-c72db22dfe30",
   "metadata": {
    "tags": []
   },
   "outputs": [],
   "source": [
    "# Instantiate the ETL_Pipeline class\n",
    "etl_pipeline = ETL_Pipeline()\n",
    "\n",
    "# read the given .csv file into a df\n",
    "transactions_df = etl_pipeline.extract('experimental_transaction.csv')  \n",
    "\n",
    "# add features to signify time(hour) of transactions\n",
    "transactions_df = etl_pipeline.categorize_time(transactions_df)\n",
    "\n",
    "# add features to signify part of year for trasactions\n",
    "transactions_df = etl_pipeline.categorize_year(transactions_df)\n",
    "\n",
    "# add average transactions as a feature\n",
    "transactions_df = etl_pipeline.calculate_avg_transactions(transactions_df)\n",
    "\n",
    "# finally, remove all the unnecessary columns\n",
    "transactions_df = etl_pipeline.remove_columns(transactions_df)\n",
    "\n",
    "# save as a transformed csv file\n",
    "transactions_df = etl_pipeline.load(transactions_df)"
   ]
  },
  {
   "cell_type": "code",
   "execution_count": 6,
   "id": "1f0f4759-56cc-4f28-820f-865ea67bd8e8",
   "metadata": {
    "tags": []
   },
   "outputs": [],
   "source": [
    "# Create an instance of Fraud_Dataset\n",
    "fraud_dataset = Fraud_Dataset(data_path='transformed_data.csv', k_folds=5, random_state=42)\n",
    "\n",
    "# make changes to the path for jupyter\n",
    "\n",
    "# Load data\n",
    "fraud_dataset.load_data()\n",
    "\n",
    "# Balance data and choose number of observation\n",
    "fraud_dataset.balance_data(n=5000)\n",
    "\n",
    "# Split data into k folds\n",
    "fraud_dataset.split_data()\n",
    "\n",
    "# Access training dataset for a specific fold (e.g., fold 0)\n",
    "training_data = fraud_dataset.get_training_dataset(fold=0)\n",
    "\n",
    "# Access validation dataset for the same fold\n",
    "validation_data = fraud_dataset.get_validation_dataset(fold=0)\n",
    "\n",
    "# Access the entire dataset as the testing dataset\n",
    "testing_data = fraud_dataset.get_testing_dataset()\n"
   ]
  },
  {
   "cell_type": "code",
   "execution_count": 7,
   "id": "27c326ad-bc79-4307-8c79-f28b89ee641b",
   "metadata": {
    "tags": []
   },
   "outputs": [
    {
     "name": "stdout",
     "output_type": "stream",
     "text": [
      "Report generated and saved to logistic_regression_report_2024-02-28_15-59-11.txt\n",
      "Report generated and saved to random_forest_report_2024-02-28_15-59-15.txt\n",
      "Report generated and saved to ensemble_report_2024-02-28_15-59-16.txt\n"
     ]
    }
   ],
   "source": [
    "candidate_models = ['logistic_regression', 'random_forest', 'ensemble']\n",
    "\n",
    "for model in candidate_models:\n",
    "  fraud_detector_model = Fraud_Detector_Model()\n",
    "  model_type = model\n",
    "\n",
    "  # Train Model\n",
    "  X_train = training_data.drop(columns=['is_fraud'])\n",
    "  y_train = training_data['is_fraud']\n",
    "  trained_model = fraud_detector_model.train(X_train, y_train, model_type)\n",
    "\n",
    "  # Validate Model\n",
    "  X_validate = validation_data.drop(columns=['is_fraud'])\n",
    "  y_validate = validation_data['is_fraud']\n",
    "  validated_model = fraud_detector_model.validate(X_validate, y_validate, model_type)\n",
    "\n",
    "  # Test Model and generate predictions\n",
    "  X_test = testing_data.drop(columns=['is_fraud'])\n",
    "  y_test = testing_data['is_fraud']\n",
    "  y_pred = trained_model.predict(X_test)\n",
    "\n",
    "   # Generate Metrics\n",
    "  metrics = Metrics(model_name=model)\n",
    "  metrics.generate_report( y_pred, y_test)"
   ]
  }
 ],
 "metadata": {
  "kernelspec": {
   "display_name": "Python 3 (ipykernel)",
   "language": "python",
   "name": "python3"
  },
  "language_info": {
   "codemirror_mode": {
    "name": "ipython",
    "version": 3
   },
   "file_extension": ".py",
   "mimetype": "text/x-python",
   "name": "python",
   "nbconvert_exporter": "python",
   "pygments_lexer": "ipython3",
   "version": "3.8.12"
  }
 },
 "nbformat": 4,
 "nbformat_minor": 5
}
