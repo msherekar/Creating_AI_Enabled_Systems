{
 "cells": [
  {
   "cell_type": "code",
   "execution_count": 2,
   "id": "3e7a8020-47ca-4def-8846-5c7783579bf0",
   "metadata": {
    "tags": []
   },
   "outputs": [],
   "source": [
    "import pandas as pd\n",
    "from sklearn.model_selection import GroupKFold\n",
    "\n",
    "class Fraud_Dataset:\n",
    "    def __init__(self, data_path: str, k_folds: int = 5, random_state: int = 42, balance_samples: int = 1000):\n",
    "        \"\"\"\n",
    "        Initialize the Fraud_Dataset class.\n",
    "\n",
    "        Parameters:\n",
    "        - data_path (str): Path to the dataset file.\n",
    "        - k_folds (int): Number of folds for k-fold cross-validation.\n",
    "        - random_state (int): Random state for reproducibility.\n",
    "        - balance_samples (int): Number of samples to balance the classes.\n",
    "        \"\"\"\n",
    "        self.data_path = data_path\n",
    "        self.k_folds = k_folds\n",
    "        self.random_state = random_state\n",
    "        self.balance_samples = balance_samples\n",
    "        self.data = None\n",
    "        self.split_indices = None\n",
    "        self.groups = None\n",
    "\n",
    "    def load_data(self):\n",
    "        \"\"\"\n",
    "        Load dataset from the given data path.\n",
    "        \"\"\"\n",
    "        self.data = pd.read_csv(self.data_path, index_col=0)\n",
    "\n",
    "    def balance_data(self):\n",
    "        \"\"\"\n",
    "        Balance the dataset by oversampling the minority class (fraud) to match the majority class (non-fraud).\n",
    "        \"\"\"\n",
    "        if self.data is None:\n",
    "            self.load_data()\n",
    "\n",
    "        fraud_df = self.data[self.data['is_fraud'] == 1]\n",
    "        non_fraud_df = self.data[self.data['is_fraud'] == 0]\n",
    "\n",
    "        sampled_non_fraud_df = non_fraud_df.sample(n=self.balance_samples, random_state=self.random_state)\n",
    "        sampled_fraud_df = fraud_df.sample(n=self.balance_samples, random_state=self.random_state)\n",
    "\n",
    "        self.data = pd.concat([sampled_fraud_df, sampled_non_fraud_df]).sample(frac=1, random_state=self.random_state)\n",
    "\n",
    "    def split_data(self):\n",
    "        \"\"\"\n",
    "        Generate k-fold splits.\n",
    "        \"\"\"\n",
    "        if self.data is None:\n",
    "            self.load_data()\n",
    "\n",
    "        self.groups = self.data['cc_num']\n",
    "        group_kfold = GroupKFold(n_splits=self.k_folds)\n",
    "        self.split_indices = list(group_kfold.split(self.data, groups=self.groups))\n",
    "\n",
    "    def get_training_validation_datasets(self, fold):\n",
    "        \"\"\"\n",
    "        Return the training and validation datasets for a specific fold.\n",
    "        \"\"\"\n",
    "        if self.data is None or self.split_indices is None:\n",
    "            self.load_data()\n",
    "            self.balance_data()\n",
    "            self.split_data()\n",
    "\n",
    "        train_indices, val_indices = self.split_indices[fold]\n",
    "        train_dataset = self.data.iloc[train_indices]\n",
    "        val_dataset = self.data.iloc[val_indices]\n",
    "        \n",
    "        return train_dataset, val_dataset\n",
    "\n",
    "    def get_testing_dataset(self):\n",
    "        \"\"\"\n",
    "        Return the entire dataset as the testing dataset.\n",
    "        \"\"\"\n",
    "        if self.data is None:\n",
    "            self.load_data()\n",
    "            self.balance_data()\n",
    "        return self.data\n"
   ]
  },
  {
   "cell_type": "code",
   "execution_count": 3,
   "id": "143f4ed7-fa3f-4bcf-8b44-780640ebb0f6",
   "metadata": {
    "tags": []
   },
   "outputs": [],
   "source": [
    "# Instantiate the Fraud_Dataset class\n",
    "fraud_dataset = Fraud_Dataset(data_path='transformed_data.csv', k_folds=5, random_state=42, balance_samples=1000)\n",
    "\n",
    "# Split data into k folds\n",
    "fraud_dataset.split_data()\n",
    "\n",
    "# Get training and validation datasets for a specific fold (e.g., fold 0)\n",
    "fold = 4\n",
    "train_dataset, val_dataset = fraud_dataset.get_training_validation_datasets(fold)\n",
    "\n",
    "# Get the entire dataset as the testing dataset\n",
    "test_dataset = fraud_dataset.get_testing_dataset()\n"
   ]
  },
  {
   "cell_type": "code",
   "execution_count": 6,
   "id": "e057f6f1-ae19-474b-bbca-4dbc3e719778",
   "metadata": {
    "tags": []
   },
   "outputs": [
    {
     "name": "stdout",
     "output_type": "stream",
     "text": [
      "(999999, 6)\n",
      "(800000, 6)\n",
      "(199999, 6)\n"
     ]
    }
   ],
   "source": [
    "print(test_dataset.shape)\n",
    "print(train_dataset.shape)\n",
    "print(val_dataset.shape)"
   ]
  },
  {
   "cell_type": "code",
   "execution_count": 8,
   "id": "1c46c60a-084e-4145-aedd-2e08dab9a42c",
   "metadata": {
    "tags": []
   },
   "outputs": [],
   "source": [
    "test_dataset.to_csv('test_dataset.csv')\n",
    "train_dataset.to_csv('train_dataset.csv')\n",
    "val_dataset.to_csv('val_dataset.csv')"
   ]
  },
  {
   "cell_type": "code",
   "execution_count": null,
   "id": "1bc3c0f9-6ef4-4b0b-b536-8e9be10b6073",
   "metadata": {},
   "outputs": [],
   "source": []
  }
 ],
 "metadata": {
  "kernelspec": {
   "display_name": "Python (en605645)",
   "language": "python",
   "name": "en605645"
  },
  "language_info": {
   "codemirror_mode": {
    "name": "ipython",
    "version": 3
   },
   "file_extension": ".py",
   "mimetype": "text/x-python",
   "name": "python",
   "nbconvert_exporter": "python",
   "pygments_lexer": "ipython3",
   "version": "3.11.7"
  }
 },
 "nbformat": 4,
 "nbformat_minor": 5
}
