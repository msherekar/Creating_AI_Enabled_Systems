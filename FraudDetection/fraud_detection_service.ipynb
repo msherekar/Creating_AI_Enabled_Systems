{
 "cells": [
  {
   "cell_type": "markdown",
   "id": "9a047b33",
   "metadata": {
    "tags": []
   },
   "source": [
    "## Install Flask to enable network communication (micro-services)"
   ]
  },
  {
   "cell_type": "code",
   "execution_count": 3,
   "id": "08b43e51",
   "metadata": {},
   "outputs": [],
   "source": [
    "#!pip install flask"
   ]
  },
  {
   "cell_type": "code",
   "execution_count": null,
   "id": "dae94d96-27dc-4478-94e4-7d0a1cbe3749",
   "metadata": {},
   "outputs": [],
   "source": []
  },
  {
   "cell_type": "code",
   "execution_count": 4,
   "id": "96cbad43",
   "metadata": {},
   "outputs": [],
   "source": [
    "import pandas as pd\n",
    "from model import Fraud_Detector_Model\n",
    "from metrics import Metrics\n",
    "import os\n",
    "from data_pipeline import ETL_Pipeline"
   ]
  },
  {
   "cell_type": "code",
   "execution_count": 5,
   "id": "ba83bc20-83ed-4880-a969-0f7dc3a558fa",
   "metadata": {
    "tags": []
   },
   "outputs": [
    {
     "name": "stderr",
     "output_type": "stream",
     "text": [
      "/Users/mukulsherekar/Documents/CRAISYS/workspace/705.603Portfolio/FraudDetection/data_pipeline.py:118: FutureWarning: The default of observed=False is deprecated and will be changed to True in a future version of pandas. Pass observed=False to retain current behavior or observed=True to adopt the future default and silence this warning.\n",
      "  frauds_by_age_group = transactions[transactions['is_fraud'] == 1].groupby('age_group').size()\n"
     ]
    }
   ],
   "source": [
    "# This block is to generate dummy data to show model can make a prediction on a new transaction\n",
    "data=pd.read_csv('transactions.csv')\n",
    "#data.head(1)\n",
    "\n",
    "data[1:9].to_csv('data_tocheck.csv', index=False)\n",
    "\n",
    "# Transformation using same steps as for pre-processing for model training\n",
    "etl_pipeline = ETL_Pipeline()\n",
    "\n",
    "# read the given .csv file into a df\n",
    "transactions_df = etl_pipeline.extract('transactions.csv')  # change this later for jupyter\n",
    "\n",
    "# add features to signify time(hour) of transactions\n",
    "transactions_df = etl_pipeline.categorize_time(transactions_df)\n",
    "\n",
    "# add features to signify part of year for trasactions\n",
    "transactions_df = etl_pipeline.categorize_year(transactions_df)\n",
    "\n",
    "# add average transactions as a feature\n",
    "transactions_df = etl_pipeline.calculate_avg_transactions(transactions_df)\n",
    "\n",
    "# finally, remove all the unnecessary columns\n",
    "transactions_df = etl_pipeline.remove_columns(transactions_df)\n",
    "\n",
    "# save as a transformed csv file\n",
    "transactions_df = etl_pipeline.load(transactions_df)\n",
    "\n",
    "# above code spits out .csv file with is_fraud and new feature\n",
    "\n",
    "# read the fully converted data \n",
    "transformed_data_full = pd.read_csv('transformed_data.csv')\n",
    "#transformed_data_full.head()\n",
    "\n",
    "# slice to generate a transaction that will go into model for testing\n",
    "transformed_data_partial = transformed_data_full[2:3]\n",
    "\n",
    "# get rid of label \n",
    "transformed_data_partial = transformed_data_partial.drop(columns=['is_fraud'])\n",
    "#transformed_data_partial\n",
    "\n",
    "# save as csv for testing\n",
    "transformed_data_partial.to_csv('data_coming_in.csv', index=False)"
   ]
  },
  {
   "cell_type": "code",
   "execution_count": 7,
   "id": "9a676025-d512-496c-b2ed-2beadc5f7999",
   "metadata": {
    "tags": []
   },
   "outputs": [
    {
     "name": "stdout",
     "output_type": "stream",
     "text": [
      "Determination: Yes, It is a fraudulent transaction, take immediate action\n"
     ]
    },
    {
     "name": "stderr",
     "output_type": "stream",
     "text": [
      "/Users/mukulsherekar/opt/anaconda3/envs/en605645/lib/python3.11/site-packages/sklearn/base.py:376: InconsistentVersionWarning: Trying to unpickle estimator StandardScaler from version 1.3.0 when using version 1.4.1.post1. This might lead to breaking code or invalid results. Use at your own risk. For more info please refer to:\n",
      "https://scikit-learn.org/stable/model_persistence.html#security-maintainability-limitations\n",
      "  warnings.warn(\n",
      "/Users/mukulsherekar/opt/anaconda3/envs/en605645/lib/python3.11/site-packages/sklearn/base.py:376: InconsistentVersionWarning: Trying to unpickle estimator PCA from version 1.3.0 when using version 1.4.1.post1. This might lead to breaking code or invalid results. Use at your own risk. For more info please refer to:\n",
      "https://scikit-learn.org/stable/model_persistence.html#security-maintainability-limitations\n",
      "  warnings.warn(\n",
      "/Users/mukulsherekar/opt/anaconda3/envs/en605645/lib/python3.11/site-packages/sklearn/base.py:376: InconsistentVersionWarning: Trying to unpickle estimator LogisticRegression from version 1.3.0 when using version 1.4.1.post1. This might lead to breaking code or invalid results. Use at your own risk. For more info please refer to:\n",
      "https://scikit-learn.org/stable/model_persistence.html#security-maintainability-limitations\n",
      "  warnings.warn(\n",
      "/Users/mukulsherekar/opt/anaconda3/envs/en605645/lib/python3.11/site-packages/sklearn/base.py:376: InconsistentVersionWarning: Trying to unpickle estimator Pipeline from version 1.3.0 when using version 1.4.1.post1. This might lead to breaking code or invalid results. Use at your own risk. For more info please refer to:\n",
      "https://scikit-learn.org/stable/model_persistence.html#security-maintainability-limitations\n",
      "  warnings.warn(\n"
     ]
    }
   ],
   "source": [
    "# Create an instance of Fraud_Detector_Model\n",
    "fdm = Fraud_Detector_Model()\n",
    "\n",
    "# Assuming `logistic regression` is the model type\n",
    "model_type = \"logistic_regression\"\n",
    "\n",
    "#Call the model_infer method to perform inference on a dataframe\n",
    "determination = fdm.model_infer(transformed_data_partial, model_type)\n",
    "\n",
    "# Print the result\n",
    "print(\"Determination:\", determination)"
   ]
  },
  {
   "cell_type": "code",
   "execution_count": 8,
   "id": "9fe36ec2-5361-4403-a781-2ad82b73f859",
   "metadata": {
    "tags": []
   },
   "outputs": [
    {
     "name": "stdout",
     "output_type": "stream",
     "text": [
      "Determination: Yes, It is a fraudulent transaction, take immediate action\n"
     ]
    },
    {
     "name": "stderr",
     "output_type": "stream",
     "text": [
      "/Users/mukulsherekar/opt/anaconda3/envs/en605645/lib/python3.11/site-packages/sklearn/base.py:376: InconsistentVersionWarning: Trying to unpickle estimator StandardScaler from version 1.3.0 when using version 1.4.1.post1. This might lead to breaking code or invalid results. Use at your own risk. For more info please refer to:\n",
      "https://scikit-learn.org/stable/model_persistence.html#security-maintainability-limitations\n",
      "  warnings.warn(\n",
      "/Users/mukulsherekar/opt/anaconda3/envs/en605645/lib/python3.11/site-packages/sklearn/base.py:376: InconsistentVersionWarning: Trying to unpickle estimator PCA from version 1.3.0 when using version 1.4.1.post1. This might lead to breaking code or invalid results. Use at your own risk. For more info please refer to:\n",
      "https://scikit-learn.org/stable/model_persistence.html#security-maintainability-limitations\n",
      "  warnings.warn(\n",
      "/Users/mukulsherekar/opt/anaconda3/envs/en605645/lib/python3.11/site-packages/sklearn/base.py:376: InconsistentVersionWarning: Trying to unpickle estimator LogisticRegression from version 1.3.0 when using version 1.4.1.post1. This might lead to breaking code or invalid results. Use at your own risk. For more info please refer to:\n",
      "https://scikit-learn.org/stable/model_persistence.html#security-maintainability-limitations\n",
      "  warnings.warn(\n",
      "/Users/mukulsherekar/opt/anaconda3/envs/en605645/lib/python3.11/site-packages/sklearn/base.py:376: InconsistentVersionWarning: Trying to unpickle estimator Pipeline from version 1.3.0 when using version 1.4.1.post1. This might lead to breaking code or invalid results. Use at your own risk. For more info please refer to:\n",
      "https://scikit-learn.org/stable/model_persistence.html#security-maintainability-limitations\n",
      "  warnings.warn(\n"
     ]
    }
   ],
   "source": [
    "# Create an instance of Fraud_Detector_Model\n",
    "fdm = Fraud_Detector_Model()\n",
    "\n",
    "# Assuming `logistic regression` is the model type\n",
    "model_type = \"logistic_regression\"\n",
    "\n",
    "# storing the csv file in a variable\n",
    "csv_file = \"data_coming_in.csv\"\n",
    "\n",
    "# Call the model_infer method to perform inference\n",
    "determination = fdm.model_infer2(csv_file, model_type)\n",
    "\n",
    "# # Print the result\n",
    "print(\"Determination:\", determination)"
   ]
  },
  {
   "cell_type": "markdown",
   "id": "2d348750",
   "metadata": {},
   "source": [
    "### Start up the service"
   ]
  },
  {
   "cell_type": "code",
   "execution_count": null,
   "id": "631644fe",
   "metadata": {
    "tags": []
   },
   "outputs": [
    {
     "name": "stdout",
     "output_type": "stream",
     "text": [
      "starting server...\n",
      " * Serving Flask app 'fraud_detection_service'\n",
      " * Debug mode: on\n",
      "\u001b[31m\u001b[1mWARNING: This is a development server. Do not use it in a production deployment. Use a production WSGI server instead.\u001b[0m\n",
      " * Running on all addresses (0.0.0.0)\n",
      " * Running on http://127.0.0.1:8786\n",
      " * Running on http://192.168.0.5:8786\n",
      "\u001b[33mPress CTRL+C to quit\u001b[0m\n",
      " * Restarting with watchdog (fsevents)\n",
      "starting server...\n",
      " * Debugger is active!\n",
      " * Debugger PIN: 504-008-368\n",
      "127.0.0.1 - - [28/Feb/2024 21:08:54] \"\u001b[33mGET /infer?data_coming_in=data_coming_in.csv HTTP/1.1\u001b[0m\" 404 -\n",
      "127.0.0.1 - - [28/Feb/2024 21:08:59] \"GET / HTTP/1.1\" 200 -\n",
      "192.168.0.5 - - [28/Feb/2024 21:09:02] \"GET / HTTP/1.1\" 200 -\n"
     ]
    }
   ],
   "source": [
    "!python fraud_detection_service.py\n"
   ]
  },
  {
   "cell_type": "markdown",
   "id": "0a33fe3e",
   "metadata": {},
   "source": [
    "Try out the links \n",
    "* [stats](http://localhost:8786/stats)\n",
    "* [determination](http://localhost:8786/infer?data_coming_in=data_coming_in.csv)\n",
    "\n",
    "Run the following command in terminal \n",
    "\n",
    "wget -qO- \"http://localhost:8786/infer?data_coming_in=data_coming_in.csv\" /dev/null 2>&1"
   ]
  },
  {
   "cell_type": "markdown",
   "id": "0b82c37d",
   "metadata": {},
   "source": [
    "### You must kill the kernel to try again for the port stays locked to the current kernel"
   ]
  }
 ],
 "metadata": {
  "kernelspec": {
   "display_name": "Python (en605645)",
   "language": "python",
   "name": "en605645"
  },
  "language_info": {
   "codemirror_mode": {
    "name": "ipython",
    "version": 3
   },
   "file_extension": ".py",
   "mimetype": "text/x-python",
   "name": "python",
   "nbconvert_exporter": "python",
   "pygments_lexer": "ipython3",
   "version": "3.11.7"
  }
 },
 "nbformat": 4,
 "nbformat_minor": 5
}
