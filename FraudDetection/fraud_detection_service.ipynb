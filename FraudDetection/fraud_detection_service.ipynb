{
 "cells": [
  {
   "cell_type": "markdown",
   "id": "9a047b33",
   "metadata": {
    "tags": []
   },
   "source": [
    "## Install Flask to enable network communication (micro-services)"
   ]
  },
  {
   "cell_type": "markdown",
   "id": "2d348750",
   "metadata": {},
   "source": [
    "### Start up the service"
   ]
  },
  {
   "cell_type": "code",
   "execution_count": null,
   "id": "631644fe",
   "metadata": {
    "tags": []
   },
   "outputs": [],
   "source": [
    "!python fraud_detection_service.py\n"
   ]
  },
  {
   "cell_type": "markdown",
   "id": "0a33fe3e",
   "metadata": {},
   "source": [
    "Try out the links \n",
    "\n",
    "* [determination](http://localhost:8786/infer?check_transaction=check_transaction.csv)\n",
    "\n",
    "Paste the following link or click on it\n",
    "\n",
    "http://localhost:8786/infer?check_transaction=check_transaction.csv"
   ]
  },
  {
   "cell_type": "markdown",
   "id": "0b82c37d",
   "metadata": {},
   "source": [
    "### You must kill the kernel to try again for the port stays locked to the current kernel"
   ]
  }
 ],
 "metadata": {
  "kernelspec": {
   "display_name": "Python (en605645)",
   "language": "python",
   "name": "en605645"
  },
  "language_info": {
   "codemirror_mode": {
    "name": "ipython",
    "version": 3
   },
   "file_extension": ".py",
   "mimetype": "text/x-python",
   "name": "python",
   "nbconvert_exporter": "python",
   "pygments_lexer": "ipython3",
   "version": "3.11.7"
  }
 },
 "nbformat": 4,
 "nbformat_minor": 5
}
