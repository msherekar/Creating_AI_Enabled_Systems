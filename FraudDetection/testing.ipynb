{
 "cells": [
  {
   "cell_type": "code",
   "execution_count": 1,
   "id": "15cb469e-e89d-474a-99ff-69a006b1aefa",
   "metadata": {
    "tags": []
   },
   "outputs": [
    {
     "name": "stdout",
     "output_type": "stream",
     "text": [
      "Intel MKL WARNING: Support of Intel(R) Streaming SIMD Extensions 4.2 (Intel(R) SSE4.2) enabled only processors has been deprecated. Intel oneAPI Math Kernel Library 2025.0 will require Intel(R) Advanced Vector Extensions (Intel(R) AVX) instructions.\n",
      "Intel MKL WARNING: Support of Intel(R) Streaming SIMD Extensions 4.2 (Intel(R) SSE4.2) enabled only processors has been deprecated. Intel oneAPI Math Kernel Library 2025.0 will require Intel(R) Advanced Vector Extensions (Intel(R) AVX) instructions.\n",
      "Transformed CSV file: transformed_data.csv\n"
     ]
    }
   ],
   "source": [
    "# Import the ETL_Pipeline class\n",
    "from data_pipeline import ETL_Pipeline  \n",
    "\n",
    "# File path to the raw transaction data CSV file\n",
    "csv_file = 'transactions.csv'\n",
    "\n",
    "# Create an instance of the ETL_Pipeline class\n",
    "etl_pipeline = ETL_Pipeline()\n",
    "\n",
    "# Transform the raw transaction data\n",
    "transformed_filename = etl_pipeline.transform(csv_file)\n",
    "\n",
    "print(\"Transformed CSV file:\", transformed_filename)\n"
   ]
  },
  {
   "cell_type": "code",
   "execution_count": 3,
   "id": "5038c1e8-9e4c-4a5e-9583-92d2bb7781ef",
   "metadata": {
    "tags": []
   },
   "outputs": [
    {
     "data": {
      "text/html": [
       "<div>\n",
       "<style scoped>\n",
       "    .dataframe tbody tr th:only-of-type {\n",
       "        vertical-align: middle;\n",
       "    }\n",
       "\n",
       "    .dataframe tbody tr th {\n",
       "        vertical-align: top;\n",
       "    }\n",
       "\n",
       "    .dataframe thead th {\n",
       "        text-align: right;\n",
       "    }\n",
       "</style>\n",
       "<table border=\"1\" class=\"dataframe\">\n",
       "  <thead>\n",
       "    <tr style=\"text-align: right;\">\n",
       "      <th></th>\n",
       "      <th>amt</th>\n",
       "      <th>cc_num</th>\n",
       "      <th>is_night</th>\n",
       "      <th>is_holidays</th>\n",
       "      <th>is_post_holidays</th>\n",
       "      <th>is_summer</th>\n",
       "      <th>is_fraud</th>\n",
       "    </tr>\n",
       "  </thead>\n",
       "  <tbody>\n",
       "    <tr>\n",
       "      <th>0</th>\n",
       "      <td>4.97</td>\n",
       "      <td>2703186189652095</td>\n",
       "      <td>1</td>\n",
       "      <td>1</td>\n",
       "      <td>1</td>\n",
       "      <td>0</td>\n",
       "      <td>0</td>\n",
       "    </tr>\n",
       "    <tr>\n",
       "      <th>1</th>\n",
       "      <td>107.23</td>\n",
       "      <td>630423337322</td>\n",
       "      <td>1</td>\n",
       "      <td>1</td>\n",
       "      <td>1</td>\n",
       "      <td>0</td>\n",
       "      <td>0</td>\n",
       "    </tr>\n",
       "    <tr>\n",
       "      <th>2</th>\n",
       "      <td>220.11</td>\n",
       "      <td>38859492057661</td>\n",
       "      <td>1</td>\n",
       "      <td>1</td>\n",
       "      <td>1</td>\n",
       "      <td>0</td>\n",
       "      <td>0</td>\n",
       "    </tr>\n",
       "    <tr>\n",
       "      <th>3</th>\n",
       "      <td>45.00</td>\n",
       "      <td>3534093764340240</td>\n",
       "      <td>1</td>\n",
       "      <td>1</td>\n",
       "      <td>1</td>\n",
       "      <td>0</td>\n",
       "      <td>0</td>\n",
       "    </tr>\n",
       "    <tr>\n",
       "      <th>4</th>\n",
       "      <td>41.96</td>\n",
       "      <td>375534208663984</td>\n",
       "      <td>1</td>\n",
       "      <td>1</td>\n",
       "      <td>1</td>\n",
       "      <td>0</td>\n",
       "      <td>0</td>\n",
       "    </tr>\n",
       "  </tbody>\n",
       "</table>\n",
       "</div>"
      ],
      "text/plain": [
       "      amt            cc_num  is_night  is_holidays  is_post_holidays  \\\n",
       "0    4.97  2703186189652095         1            1                 1   \n",
       "1  107.23      630423337322         1            1                 1   \n",
       "2  220.11    38859492057661         1            1                 1   \n",
       "3   45.00  3534093764340240         1            1                 1   \n",
       "4   41.96   375534208663984         1            1                 1   \n",
       "\n",
       "   is_summer  is_fraud  \n",
       "0          0         0  \n",
       "1          0         0  \n",
       "2          0         0  \n",
       "3          0         0  \n",
       "4          0         0  "
      ]
     },
     "execution_count": 3,
     "metadata": {},
     "output_type": "execute_result"
    }
   ],
   "source": [
    "import pandas as pd\n",
    "df = pd.read_csv('transformed_data.csv'); df.head()"
   ]
  },
  {
   "cell_type": "code",
   "execution_count": 5,
   "id": "bfbc3f19-2547-43d9-a728-331ce6a87f30",
   "metadata": {
    "tags": []
   },
   "outputs": [],
   "source": [
    "from dataset import Fraud_Dataset\n",
    "\n",
    "# Instantiate the Fraud_Dataset class\n",
    "fraud_dataset = Fraud_Dataset(data_path='transformed_data.csv', k_folds=5, random_state=42, balance_samples=1000)\n",
    "\n",
    "# Split data into k folds\n",
    "fraud_dataset.split_data()\n",
    "\n",
    "# Get training and validation datasets for a specific fold (e.g., fold 0)\n",
    "fold = 4\n",
    "train_dataset, val_dataset = fraud_dataset.get_training_validation_datasets(fold)\n",
    "\n",
    "# Get the entire dataset as the testing dataset\n",
    "test_dataset = fraud_dataset.get_testing_dataset()\n"
   ]
  },
  {
   "cell_type": "code",
   "execution_count": 7,
   "id": "1ecd0269-14c6-4f6a-ad5c-fdbe731b888d",
   "metadata": {
    "tags": []
   },
   "outputs": [
    {
     "name": "stdout",
     "output_type": "stream",
     "text": [
      "(999999, 7)\n",
      "(800000, 7)\n",
      "(199999, 7)\n"
     ]
    }
   ],
   "source": [
    "print(test_dataset.shape)\n",
    "print(train_dataset.shape)\n",
    "print(val_dataset.shape)"
   ]
  },
  {
   "cell_type": "code",
   "execution_count": 9,
   "id": "802d6924-a125-41f8-ba87-d4a7c0f9adcb",
   "metadata": {
    "tags": []
   },
   "outputs": [
    {
     "data": {
      "text/html": [
       "<div>\n",
       "<style scoped>\n",
       "    .dataframe tbody tr th:only-of-type {\n",
       "        vertical-align: middle;\n",
       "    }\n",
       "\n",
       "    .dataframe tbody tr th {\n",
       "        vertical-align: top;\n",
       "    }\n",
       "\n",
       "    .dataframe thead th {\n",
       "        text-align: right;\n",
       "    }\n",
       "</style>\n",
       "<table border=\"1\" class=\"dataframe\">\n",
       "  <thead>\n",
       "    <tr style=\"text-align: right;\">\n",
       "      <th></th>\n",
       "      <th>amt</th>\n",
       "      <th>cc_num</th>\n",
       "      <th>is_night</th>\n",
       "      <th>is_holidays</th>\n",
       "      <th>is_post_holidays</th>\n",
       "      <th>is_summer</th>\n",
       "      <th>is_fraud</th>\n",
       "    </tr>\n",
       "  </thead>\n",
       "  <tbody>\n",
       "    <tr>\n",
       "      <th>13</th>\n",
       "      <td>96.29</td>\n",
       "      <td>5559857416065248</td>\n",
       "      <td>1</td>\n",
       "      <td>1</td>\n",
       "      <td>1</td>\n",
       "      <td>0</td>\n",
       "      <td>0</td>\n",
       "    </tr>\n",
       "    <tr>\n",
       "      <th>15</th>\n",
       "      <td>3.26</td>\n",
       "      <td>6011999606625827</td>\n",
       "      <td>1</td>\n",
       "      <td>1</td>\n",
       "      <td>1</td>\n",
       "      <td>0</td>\n",
       "      <td>0</td>\n",
       "    </tr>\n",
       "    <tr>\n",
       "      <th>16</th>\n",
       "      <td>327.00</td>\n",
       "      <td>6011860238257910</td>\n",
       "      <td>1</td>\n",
       "      <td>1</td>\n",
       "      <td>1</td>\n",
       "      <td>0</td>\n",
       "      <td>0</td>\n",
       "    </tr>\n",
       "    <tr>\n",
       "      <th>18</th>\n",
       "      <td>63.07</td>\n",
       "      <td>2348245054386329</td>\n",
       "      <td>1</td>\n",
       "      <td>1</td>\n",
       "      <td>1</td>\n",
       "      <td>0</td>\n",
       "      <td>0</td>\n",
       "    </tr>\n",
       "    <tr>\n",
       "      <th>23</th>\n",
       "      <td>9.55</td>\n",
       "      <td>630441765090</td>\n",
       "      <td>1</td>\n",
       "      <td>1</td>\n",
       "      <td>1</td>\n",
       "      <td>0</td>\n",
       "      <td>0</td>\n",
       "    </tr>\n",
       "  </tbody>\n",
       "</table>\n",
       "</div>"
      ],
      "text/plain": [
       "       amt            cc_num  is_night  is_holidays  is_post_holidays  \\\n",
       "13   96.29  5559857416065248         1            1                 1   \n",
       "15    3.26  6011999606625827         1            1                 1   \n",
       "16  327.00  6011860238257910         1            1                 1   \n",
       "18   63.07  2348245054386329         1            1                 1   \n",
       "23    9.55      630441765090         1            1                 1   \n",
       "\n",
       "    is_summer  is_fraud  \n",
       "13          0         0  \n",
       "15          0         0  \n",
       "16          0         0  \n",
       "18          0         0  \n",
       "23          0         0  "
      ]
     },
     "execution_count": 9,
     "metadata": {},
     "output_type": "execute_result"
    }
   ],
   "source": [
    "val_dataset.head()"
   ]
  },
  {
   "cell_type": "code",
   "execution_count": 13,
   "id": "09805a21-11ca-48be-9f7c-ba4517e17b90",
   "metadata": {
    "tags": []
   },
   "outputs": [],
   "source": [
    "from model import Fraud_Detector_Model"
   ]
  },
  {
   "cell_type": "code",
   "execution_count": 17,
   "id": "c724f1e4-840a-44a0-b865-7471dba3ed7b",
   "metadata": {
    "tags": []
   },
   "outputs": [
    {
     "name": "stdout",
     "output_type": "stream",
     "text": [
      "The accuracy of logistic_regression is 0.8714978714978715\n"
     ]
    }
   ],
   "source": [
    "fdm_lr = Fraud_Detector_Model()\n",
    "model_type='logistic_regression'\n",
    "trained_lr_model = fdm_lr.train(train_dataset, train_datafile=None, model_type=model_type)\n",
    "validated_lr_model = fdm_lr.validate(val_dataset, val_datafile=None, model_type=model_type)\n",
    "tested_lr_model = fdm_lr.test(test_df=test_dataset, test_datafile=None, model_type=model_type)\n",
    "print(f'The accuracy of {model_type} is {tested_lr_model[2]}')"
   ]
  },
  {
   "cell_type": "code",
   "execution_count": 19,
   "id": "168f3fa7-d870-45d8-82fd-386bd656a32f",
   "metadata": {
    "tags": []
   },
   "outputs": [
    {
     "name": "stdout",
     "output_type": "stream",
     "text": [
      "The accuracy of ensemble is 0.8714978714978715\n"
     ]
    }
   ],
   "source": [
    "fdm_ensemble = Fraud_Detector_Model()\n",
    "model_type='ensemble'\n",
    "trained_ensemble_model = fdm_ensemble.train(train_dataset, train_datafile=None, model_type=model_type)\n",
    "validated_ensemble_model = fdm_ensemble.validate(val_dataset, val_datafile=None, model_type=model_type)\n",
    "tested_ensemble_model = fdm_ensemble.test(test_dataset, test_datafile=None, model_type=model_type)\n",
    "print(f'The accuracy of {model_type} is {tested_ensemble_model[2]}')"
   ]
  },
  {
   "cell_type": "code",
   "execution_count": 23,
   "id": "cafd270e-a314-452f-9ec5-fb9621d95125",
   "metadata": {},
   "outputs": [
    {
     "name": "stdout",
     "output_type": "stream",
     "text": [
      "The accuracy of random_forest is 0.9955989955989956\n"
     ]
    }
   ],
   "source": [
    "print(f'The accuracy of {model_type} is {tested_ensemble_model[2]}')"
   ]
  },
  {
   "cell_type": "code",
   "execution_count": null,
   "id": "baa506d4-02f4-4192-9848-148851287115",
   "metadata": {
    "tags": []
   },
   "outputs": [],
   "source": [
    "fdm_rf = Fraud_Detector_Model()\n",
    "model_type='random_forest'\n",
    "trained_rf_model = fdm_rf.train(train_dataset, train_datafile=None, model_type=model_type)\n",
    "validated_rf_model = fdm_rf.validate(val_dataset, val_datafile=None, model_type=model_type)\n",
    "tested_rf_model = fdm_rf.test(test_df=test_dataset, test_datafile=None, model_type=model_type)\n",
    "print(f'The accuracy of {model_type} is {tested_lr_model[2]}')"
   ]
  },
  {
   "cell_type": "code",
   "execution_count": 27,
   "id": "514eed6a-0634-4c48-b6eb-ef52693c7b84",
   "metadata": {
    "tags": []
   },
   "outputs": [
    {
     "name": "stdout",
     "output_type": "stream",
     "text": [
      "The accuracy of random_forest is 0.9956719956719957\n"
     ]
    }
   ],
   "source": [
    "print(f'The accuracy of {model_type} is {tested_rf_model[2]}')"
   ]
  },
  {
   "cell_type": "code",
   "execution_count": 39,
   "id": "185571a7-119c-4470-89d3-4ec823d1cf5d",
   "metadata": {
    "tags": []
   },
   "outputs": [
    {
     "name": "stdout",
     "output_type": "stream",
     "text": [
      "Report generated and saved to random_forest_report_2024-03-22_17-33-52.txt\n"
     ]
    }
   ],
   "source": [
    "from metrics import Metrics\n",
    "rf_metrics = Metrics(model_name='random_forest', model_dir='None')\n",
    "rf_metrics.generate_report(tested_rf_model[0], tested_rf_model[1])"
   ]
  },
  {
   "cell_type": "code",
   "execution_count": 41,
   "id": "142a0157-51f6-4867-964a-472ecc88b3c9",
   "metadata": {
    "tags": []
   },
   "outputs": [
    {
     "name": "stdout",
     "output_type": "stream",
     "text": [
      "Report generated and saved to logistic_regression_report_2024-03-22_17-34-35.txt\n"
     ]
    }
   ],
   "source": [
    "from metrics import Metrics\n",
    "lr_metrics = Metrics(model_name='logistic_regression', model_dir='None')\n",
    "lr_metrics.generate_report(tested_lr_model[0], tested_lr_model[1])"
   ]
  },
  {
   "cell_type": "code",
   "execution_count": 43,
   "id": "51ce27db-d32b-4a6b-a9b4-efa034064aac",
   "metadata": {
    "tags": []
   },
   "outputs": [
    {
     "name": "stdout",
     "output_type": "stream",
     "text": [
      "Report generated and saved to ensemble_report_2024-03-22_17-41-18.txt\n"
     ]
    }
   ],
   "source": [
    "from metrics import Metrics\n",
    "ensemble_metrics = Metrics(model_name='ensemble', model_dir='None')\n",
    "ensemble_metrics.generate_report(tested_ensemble_model[0], tested_ensemble_model[1])"
   ]
  },
  {
   "cell_type": "code",
   "execution_count": 52,
   "id": "782b236f-0c7b-4d56-8e2d-22f4a0f85b02",
   "metadata": {
    "tags": []
   },
   "outputs": [],
   "source": [
    "from model import Fraud_Detector_Model"
   ]
  },
  {
   "cell_type": "code",
   "execution_count": 57,
   "id": "31fb31e9-23e6-4fcf-a92b-c8ee16baa8ae",
   "metadata": {
    "tags": []
   },
   "outputs": [
    {
     "name": "stdout",
     "output_type": "stream",
     "text": [
      "No, It is a legitimate transaction\n"
     ]
    }
   ],
   "source": [
    "rf_model = Fraud_Detector_Model()\n",
    "determination = rf_model.infer_model('check_transaction.csv', 'random_forest')\n",
    "print(determination)"
   ]
  },
  {
   "cell_type": "code",
   "execution_count": 59,
   "id": "ca3577c5-8022-4e48-bbef-6c28129214df",
   "metadata": {
    "tags": []
   },
   "outputs": [
    {
     "name": "stdout",
     "output_type": "stream",
     "text": [
      "Yes, It is a fraudulent transaction, take immediate action\n"
     ]
    }
   ],
   "source": [
    "lr_model = Fraud_Detector_Model()\n",
    "determination = lr_model.infer_model('check_transaction.csv', 'logistic_regression')\n",
    "print(determination)"
   ]
  },
  {
   "cell_type": "code",
   "execution_count": 61,
   "id": "178fea9a-7819-4b0e-9e82-72d77a668029",
   "metadata": {
    "tags": []
   },
   "outputs": [
    {
     "name": "stdout",
     "output_type": "stream",
     "text": [
      "No, It is a legitimate transaction\n"
     ]
    }
   ],
   "source": [
    "ensemble_model = Fraud_Detector_Model()\n",
    "determination = ensemble_model.infer_model('check_transaction.csv', 'ensemble')\n",
    "print(determination)"
   ]
  }
 ],
 "metadata": {
  "kernelspec": {
   "display_name": "Python (en605645)",
   "language": "python",
   "name": "en605645"
  },
  "language_info": {
   "codemirror_mode": {
    "name": "ipython",
    "version": 3
   },
   "file_extension": ".py",
   "mimetype": "text/x-python",
   "name": "python",
   "nbconvert_exporter": "python",
   "pygments_lexer": "ipython3",
   "version": "3.11.7"
  }
 },
 "nbformat": 4,
 "nbformat_minor": 5
}
