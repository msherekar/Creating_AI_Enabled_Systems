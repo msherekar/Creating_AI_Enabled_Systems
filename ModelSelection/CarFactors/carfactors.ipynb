{
 "cells": [
  {
   "cell_type": "code",
   "execution_count": 1,
   "id": "ed889029-5d07-477f-a8ae-01d1b1c5e2b7",
   "metadata": {
    "tags": []
   },
   "outputs": [
    {
     "name": "stdout",
     "output_type": "stream",
     "text": [
      "Requirement already satisfied: flask in /Users/mukulsherekar/opt/anaconda3/lib/python3.8/site-packages (2.2.5)\n",
      "Requirement already satisfied: Werkzeug>=2.2.2 in /Users/mukulsherekar/opt/anaconda3/lib/python3.8/site-packages (from flask) (2.2.3)\n",
      "Requirement already satisfied: Jinja2>=3.0 in /Users/mukulsherekar/opt/anaconda3/lib/python3.8/site-packages (from flask) (3.1.3)\n",
      "Requirement already satisfied: itsdangerous>=2.0 in /Users/mukulsherekar/opt/anaconda3/lib/python3.8/site-packages (from flask) (2.0.1)\n",
      "Requirement already satisfied: click>=8.0 in /Users/mukulsherekar/opt/anaconda3/lib/python3.8/site-packages (from flask) (8.1.7)\n",
      "Requirement already satisfied: importlib-metadata>=3.6.0 in /Users/mukulsherekar/opt/anaconda3/lib/python3.8/site-packages (from flask) (7.0.1)\n",
      "Requirement already satisfied: zipp>=0.5 in /Users/mukulsherekar/opt/anaconda3/lib/python3.8/site-packages (from importlib-metadata>=3.6.0->flask) (3.17.0)\n",
      "Requirement already satisfied: MarkupSafe>=2.0 in /Users/mukulsherekar/opt/anaconda3/lib/python3.8/site-packages (from Jinja2>=3.0->flask) (2.1.3)\n"
     ]
    }
   ],
   "source": []
  },
  {
   "cell_type": "markdown",
   "id": "69056103",
   "metadata": {},
   "source": [
    "# Part 2: Car Factors \n",
    "\n",
    "You are to construct a predictive model that provides the duration till sold for a given model.  \n",
    "\n",
    "1. Populate the carsfactors.py following the hints in the comments\n",
    "1. Integrate with carfactors_service.py\n",
    "1. Test locally\n",
    "1. Build requirements.txt and Dockerfile\n",
    "1. Build a docker image\n",
    "1. Test Locally\n",
    "1. Push to docker hub\n",
    "1. Populate readme for both github and docker hub (with example docker commands)\n",
    "1. Populate this notebook with working output and a summary that contains an impression of the model and how to improve it.\n",
    "\n",
    "* ***Review the [codeSamplesforCategoricalData.ipynb](./codeSamplesforCategoricalData.ipynb) for code review of the categorical data manipulations***."
   ]
  },
  {
   "cell_type": "code",
   "execution_count": null,
   "id": "4948115d",
   "metadata": {
    "tags": []
   },
   "outputs": [],
   "source": [
    "from carsfactors import carsfactors\n",
    "cf = carsfactors()"
   ]
  },
  {
   "cell_type": "markdown",
   "id": "519d1843",
   "metadata": {},
   "source": [
    "### Test Model first - Get stats"
   ]
  },
  {
   "cell_type": "code",
   "execution_count": null,
   "id": "62c61a2f",
   "metadata": {
    "tags": []
   },
   "outputs": [],
   "source": [
    "cf.model_stats()"
   ]
  },
  {
   "cell_type": "markdown",
   "id": "b671a07f",
   "metadata": {},
   "source": [
    "### Get Determination"
   ]
  },
  {
   "cell_type": "code",
   "execution_count": null,
   "id": "11f38aed",
   "metadata": {},
   "outputs": [],
   "source": [
    "# Call the model_infer() method with appropriate arguments\n",
    "transmission = 'automatic'  # Example transmission value\n",
    "color = 'blue'  # Example color value\n",
    "odometer_value = 50000  # Example odometer_value\n",
    "year_produced = 2018  # Example year_produced\n",
    "price_usd = 15000  # Example price_usd\n",
    "\n",
    "# Run the model_infer() method\n",
    "prediction = cf.model_infer(transmission, color, odometer_value, year_produced, price_usd)\n",
    "\n",
    "print(\"Predicted duration listed:\", prediction)"
   ]
  },
  {
   "cell_type": "markdown",
   "id": "756c63ad",
   "metadata": {},
   "source": [
    "### Start up the service"
   ]
  },
  {
   "cell_type": "code",
   "execution_count": null,
   "id": "e9637ddc",
   "metadata": {},
   "outputs": [],
   "source": [
    "!python carfactors_service.py"
   ]
  },
  {
   "cell_type": "markdown",
   "id": "5e9bb030",
   "metadata": {},
   "source": [
    "Try out the links \n",
    "* [stats](http://fillin)\n",
    "* [determination](http://fillin)"
   ]
  },
  {
   "cell_type": "markdown",
   "id": "9545879a",
   "metadata": {},
   "source": [
    "### You must kill the kernel to try again for the port stays locked to the current kernel"
   ]
  },
  {
   "cell_type": "markdown",
   "id": "6343405c",
   "metadata": {},
   "source": [
    "# Summary\n",
    "* Assignment and Model Results\n",
    "* Techniques to improve the results"
   ]
  },
  {
   "cell_type": "markdown",
   "id": "84426602",
   "metadata": {},
   "source": [
    "My linear regression model is incomplete. I just focussed on getting the assignment done. I chose the features that were in the notebook. I had to frop body_type because i ran into concatenation problems. I also ran into port issues because of which the weblinks were not working. To work properly on this model, I will spend time on exploratory data analysis. And then spend time on outler removal, featuer selection, and model exploration and hyper parameter tuning."
   ]
  },
  {
   "cell_type": "code",
   "execution_count": null,
   "id": "e5d89e15",
   "metadata": {},
   "outputs": [],
   "source": []
  }
 ],
 "metadata": {
  "kernelspec": {
   "display_name": "Python 3 (ipykernel)",
   "language": "python",
   "name": "python3"
  },
  "language_info": {
   "codemirror_mode": {
    "name": "ipython",
    "version": 3
   },
   "file_extension": ".py",
   "mimetype": "text/x-python",
   "name": "python",
   "nbconvert_exporter": "python",
   "pygments_lexer": "ipython3",
   "version": "3.8.12"
  }
 },
 "nbformat": 4,
 "nbformat_minor": 5
}
