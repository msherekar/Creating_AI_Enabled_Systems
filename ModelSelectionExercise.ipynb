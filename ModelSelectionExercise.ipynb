{
 "cells": [
  {
   "cell_type": "markdown",
   "id": "4aba8e21",
   "metadata": {},
   "source": [
    "# Assignment Overview\n",
    "\n",
    "Links to the notes discussed in the video\n",
    "* [Model Selection Overview](./ModelSelect.pdf)\n",
    "* [Model Types](./ModelType.pdf)\n",
    "* [Model Decision Factors](./ModelDecisionFactors.pdf)\n",
    "* [Generalization Techiques](./Generalization.pdf)\n",
    "\n",
    "The assignment consists of two parts requiring you to select appropriate models with associated code/text.\n",
    "\n",
    "1. Determine challenge and relevant model for two distinct situations (fill out this notebook). \n",
    "1. Address the data code needed and the model for [car factors](./CarFactors/carfactors.ipynb) contained in the subdirectory, CarFactors.\n",
    "\n",
    "* ***Check the rubric in Canvas*** to make sure you understand the requirements and the assocated weights grading"
   ]
  },
  {
   "cell_type": "markdown",
   "id": "434176c7",
   "metadata": {},
   "source": [
    "# Part 1: Speed Dating Model Selection\n",
    "\n",
    "You are to explore the data set on speed dating and construct two models that provide some insight such as grouping or predictions.  The models must come from different model areas such as listed as categories in the [ModelTypes](./ModelTypes.pdf) document.  You must justify your answer considering the data and the prediction value.\n",
    "\n",
    "The data is contained in [SpeedDatingData.csv](SpeedDatingData.csv).  The values are detailed in [SpeedDatingKey.md](./SpeedDatingKey.md).  The directory also contains the original key document - SpeedDatingDataKey.docx but jupyter lab is unable to render it.  You are free to render it outside of jupyter lab if something didn't translater clearly.  The open source tool [pandoc](https://pandoc.org/installing.html) was used to perform the translation.  It is useful for almost any translation and works in all major operating systems"
   ]
  },
  {
   "cell_type": "markdown",
   "id": "e8f54ae4",
   "metadata": {},
   "source": [
    "# Model 1"
   ]
  },
  {
   "cell_type": "markdown",
   "id": "76778983",
   "metadata": {},
   "source": [
    "## Outline the challenge "
   ]
  },
  {
   "cell_type": "markdown",
   "id": "87734284",
   "metadata": {},
   "source": [
    "My overall challenge based on the given data is to target audience for a dating events company. The idea of this company is to slow down things because speed dating is not for everyone.The goal of the company is to give more time to assess and analyze partners. The intended goal will be achieved by allowing people to give a second chance to a prospective date even if he/she is not their first choice in the first instance. \n",
    "\n",
    "Hence, the first challenge is to create a model that can identify folks who would be interested a slow activity based dating. To do this, I intend to apply clustering. Clustering model will help in creating groups of people based on their willingness to attend dating related activites. Probably, three clusters can be created - for sure, maybe and absolutely not. Once clustered, models coming out of challenge-2 can be applied."
   ]
  },
  {
   "cell_type": "markdown",
   "id": "54d49287",
   "metadata": {},
   "source": [
    "### Select the features and their justification "
   ]
  },
  {
   "cell_type": "markdown",
   "id": "7212f8be",
   "metadata": {},
   "source": [
    "The first feature I would like to focus on are folks who give and receive rating of 3-7. To me, such people are unsure. If someone gives or receives a rating of less than 3 or more than 7, then they are pretty sure about their decision.\n",
    "\n",
    "Then, I will use features that dont focus on \"immediate acceptance/rejection\" qualities like looks, race, religion etc.\n"
   ]
  },
  {
   "cell_type": "markdown",
   "id": "d69a2a9c",
   "metadata": {},
   "source": [
    "### Note necessary feature processing such as getting rid of empty cells etc."
   ]
  },
  {
   "cell_type": "markdown",
   "id": "4a5d87a0",
   "metadata": {},
   "source": [
    "Handling missing values by imputation (kind of imputation will depend on nature of data), Handling categorical variables by label or one hot encoding, Handling numerical variables by standard scaling, normalizing, binning etc, Feature transformation like log or polynomial features, Feature selection using their importance, statistics, and techniques like recursive feature elimination, random forest and gradient booster classifiers etc."
   ]
  },
  {
   "cell_type": "markdown",
   "id": "611029ea",
   "metadata": {},
   "source": [
    "### Model Selection"
   ]
  },
  {
   "cell_type": "markdown",
   "id": "b4233f6c",
   "metadata": {},
   "source": [
    "The fundamental nature of my first model would be clustering. Clustering because I would like to find the pool of prospective clients. In order to do so, I need to break down the market into varius clusters to tune my marketing and optimize activities"
   ]
  },
  {
   "cell_type": "markdown",
   "id": "1668e9c2",
   "metadata": {},
   "source": [
    "Place text answer here"
   ]
  },
  {
   "cell_type": "code",
   "execution_count": null,
   "id": "0e6236e1",
   "metadata": {},
   "outputs": [],
   "source": [
    "# ******************* Clustering models for challenge -1 ****************\n",
    "\n",
    "# Import necessary libraries\n",
    "import numpy as np\n",
    "import pandas as pd\n",
    "import matplotlib.pyplot as plt\n",
    "from sklearn.cluster import KMeans, AgglomerativeClustering, DBSCAN\n",
    "from sklearn.preprocessing import StandardScaler\n",
    "\n",
    "# Generate sample data\n",
    "\n",
    "# Select relevant features\n",
    "selected_features = ['go_out', 'sports', 'exphappy', 'ratings']  # This list will change\n",
    "\n",
    "# Create a subset dataframe with the selected features\n",
    "subset_df = df[selected_features]\n",
    "\n",
    "# Normalize the data\n",
    "scaler = StandardScaler()\n",
    "normalized_data = scaler.fit_transform(subset_df)\n",
    "\n",
    "# Create a new dataframe with the normalized data\n",
    "normalized_df = pd.DataFrame(normalized_data, columns=selected_features)\n",
    "\n",
    "# Now 'normalized_df' contains the normalized data for the selected features, and you can use it for clustering\n",
    "\n",
    "# Apply KMeans clustering\n",
    "kmeans = KMeans(n_clusters=4)\n",
    "kmeans.fit(X)\n",
    "kmeans_labels = kmeans.labels_\n",
    "\n",
    "# Apply Agglomerative Clustering\n",
    "agg_clustering = AgglomerativeClustering(n_clusters=4)\n",
    "agg_labels = agg_clustering.fit_predict(X)\n",
    "\n",
    "# Apply DBSCAN\n",
    "dbscan = DBSCAN(eps=0.3, min_samples=10)\n",
    "dbscan_labels = dbscan.fit_predict(X)\n",
    "\n",
    "# Visualize the clustering results\n",
    "plt.figure(figsize=(12, 4))\n",
    "\n",
    "plt.subplot(131)\n",
    "plt.scatter(X[:, 0], X[:, 1], c=kmeans_labels, cmap='viridis')\n",
    "plt.title('KMeans Clustering')\n",
    "\n",
    "plt.subplot(132)\n",
    "plt.scatter(X[:, 0], X[:, 1], c=agg_labels, cmap='viridis')\n",
    "plt.title('Agglomerative Clustering')\n",
    "\n",
    "plt.subplot(133)\n",
    "plt.scatter(X[:, 0], X[:, 1], c=dbscan_labels, cmap='viridis')\n",
    "plt.title('DBSCAN Clustering')\n",
    "\n",
    "plt.show()"
   ]
  },
  {
   "cell_type": "markdown",
   "id": "b78baba9",
   "metadata": {},
   "source": [
    "# Model 2"
   ]
  },
  {
   "cell_type": "markdown",
   "id": "aba59b38",
   "metadata": {},
   "source": [
    "## Outline the challenge"
   ]
  },
  {
   "cell_type": "markdown",
   "id": "3d09124c",
   "metadata": {},
   "source": [
    "My overall challenge based on the given data is to target audience for a dating events company. The idea of this company is to slow down things because speed dating is not for everyone.The goal of the company is to give more time to assess and analyze partners. The intended goal will be achieved by allowing people to give a second chance to a prospective date even if he/she is not their first choice in the first instance. \n",
    "\n",
    "Based on this description, my second challenge would be to classify peole for activities or activities for people. Based on clusters that come out of model-1, I intend to apply classification on each cluster. A classification model will classify people into various kind of activities or activities into various kind of people. As an example people for outdoor activities or activities for introvert people.\n",
    "\n",
    "Then, finally a prediction model can be used to predict if the people will attend the activities or not."
   ]
  },
  {
   "cell_type": "markdown",
   "id": "55f89f86",
   "metadata": {},
   "source": [
    "### Select the features and their justification"
   ]
  },
  {
   "cell_type": "markdown",
   "id": "a1acded0",
   "metadata": {},
   "source": [
    "For this model, I would like to focus on activity related features. The idea is to know which activities are more valuable and to whom. The goal would be to see/predict which activities for whom (by age, education etc) result in more matches so that I can use/discard/customize activities.\n",
    "\n",
    "Secondly, I would also like to focus on going out related features because people who like to go out might come for events"
   ]
  },
  {
   "cell_type": "markdown",
   "id": "d2ce295d",
   "metadata": {},
   "source": [
    "### Model Selection"
   ]
  },
  {
   "cell_type": "markdown",
   "id": "3ef800d3",
   "metadata": {},
   "source": [
    "Outline the rationale for selecting the model noting how its capabilities address your challenge"
   ]
  },
  {
   "cell_type": "markdown",
   "id": "c2ff7559",
   "metadata": {},
   "source": [
    "This model will mainly involve classification and finally prediction. Classification because I would like to suggest different activities to different people. Prediction because I would like to know who to focus on more."
   ]
  },
  {
   "cell_type": "code",
   "execution_count": 1,
   "id": "fac550a9",
   "metadata": {},
   "outputs": [],
   "source": [
    "import pandas as pd\n",
    "from sklearn.model_selection import train_test_split\n",
    "from sklearn.preprocessing import StandardScaler\n",
    "from sklearn.metrics import accuracy_score, classification_report\n",
    "from sklearn.linear_model import LogisticRegression\n",
    "from sklearn.tree import DecisionTreeClassifier\n",
    "from sklearn.ensemble import RandomForestClassifier\n",
    "from sklearn.svm import SVC\n",
    "from sklearn.neighbors import KNeighborsClassifier\n",
    "\n",
    "# Select relevant features and target\n",
    "selected_features = ['movies', 'sports', 'museum']  # This list will change; here for demonstration\n",
    "target_column = 'target'  # This will be decided based on the survey data\n",
    "\n",
    "X = df[selected_features]\n",
    "y = df[target_column]\n",
    "\n",
    "# Split the data into training and testing sets\n",
    "X_train, X_test, y_train, y_test = train_test_split(X, y, test_size=0.2, random_state=42)\n",
    "\n",
    "# Normalize the features\n",
    "scaler = StandardScaler()\n",
    "X_train = scaler.fit_transform(X_train)\n",
    "X_test = scaler.transform(X_test)\n",
    "\n",
    "# Initialize classifiers\n",
    "classifiers = {\n",
    "    'Logistic Regression': LogisticRegression(),\n",
    "    'Decision Tree': DecisionTreeClassifier(),\n",
    "    'Random Forest': RandomForestClassifier(),\n",
    "    'SVM': SVC(),\n",
    "    'KNN': KNeighborsClassifier()\n",
    "}\n",
    "\n",
    "# Train and evaluate each classifier\n",
    "for clf_name, clf in classifiers.items():\n",
    "    clf.fit(X_train, y_train)\n",
    "    y_pred = clf.predict(X_test)\n",
    "    accuracy = accuracy_score(y_test, y_pred)\n",
    "    report = classification_report(y_test, y_pred)\n",
    "    print(f\"Classifier: {clf_name}\")\n",
    "    print(f\"Accuracy: {accuracy:.2f}\")\n",
    "    print(f\"Classification Report:\\n{report}\\n\")"
   ]
  }
 ],
 "metadata": {
  "kernelspec": {
   "display_name": "Python 3 (ipykernel)",
   "language": "python",
   "name": "python3"
  },
  "language_info": {
   "codemirror_mode": {
    "name": "ipython",
    "version": 3
   },
   "file_extension": ".py",
   "mimetype": "text/x-python",
   "name": "python",
   "nbconvert_exporter": "python",
   "pygments_lexer": "ipython3",
   "version": "3.8.12"
  }
 },
 "nbformat": 4,
 "nbformat_minor": 5
}
