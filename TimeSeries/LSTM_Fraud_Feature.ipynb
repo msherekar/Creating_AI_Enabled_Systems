{
 "cells": [
  {
   "metadata": {},
   "cell_type": "markdown",
   "source": "IMPORT LIBRARIES",
   "id": "98d07df9eee08f95"
  },
  {
   "cell_type": "code",
   "id": "4a2c9145-c3a8-4b48-9ef3-1eeb0207b5f8",
   "metadata": {
    "tags": [],
    "ExecuteTime": {
     "end_time": "2024-04-08T03:13:21.490037Z",
     "start_time": "2024-04-08T03:13:18.089138Z"
    }
   },
   "source": [
    "import pandas as pd\n",
    "import numpy as np\n",
    "import matplotlib.pyplot as plt\n",
    "import tensorflow as tf"
   ],
   "outputs": [],
   "execution_count": 1
  },
  {
   "metadata": {},
   "cell_type": "markdown",
   "source": "LOAD DATA",
   "id": "99ee367713cac59b"
  },
  {
   "cell_type": "code",
   "id": "bf0b94eb-ecc3-4746-bd1e-2b8c6f564058",
   "metadata": {
    "tags": [],
    "ExecuteTime": {
     "end_time": "2024-04-08T03:13:32.273833Z",
     "start_time": "2024-04-08T03:13:21.491001Z"
    }
   },
   "source": "df = pd.read_csv('data/CreditCardFraudFourYears.csv', index_col=0)",
   "outputs": [],
   "execution_count": 2
  },
  {
   "metadata": {},
   "cell_type": "markdown",
   "source": "GROUP DATA",
   "id": "c3d18020c1e7f968"
  },
  {
   "cell_type": "code",
   "id": "19942744-bde1-420a-800c-13e4a16ced08",
   "metadata": {
    "ExecuteTime": {
     "end_time": "2024-04-08T03:13:32.460164Z",
     "start_time": "2024-04-08T03:13:32.275167Z"
    }
   },
   "source": [
    "daily_fraud_trans = df.groupby('trans_date').size()\n",
    "daily_fraud_trans = df[df['is_fraud'] == 1].groupby('trans_date').size()\n",
    "daily_fraud_trans.index = pd.to_datetime(daily_fraud_trans.index)\n",
    "daily_fraud_trans = daily_fraud_trans.rename('daily_fraud')\n",
    "daily_fraud_trans.head()\n",
    "                                               "
   ],
   "outputs": [
    {
     "data": {
      "text/plain": [
       "trans_date\n",
       "2018-01-05     7\n",
       "2018-01-06    28\n",
       "2018-01-07    14\n",
       "2018-01-09     5\n",
       "2018-01-10     4\n",
       "Name: daily_fraud, dtype: int64"
      ]
     },
     "execution_count": 3,
     "metadata": {},
     "output_type": "execute_result"
    }
   ],
   "execution_count": 3
  },
  {
   "cell_type": "code",
   "id": "f72690d668e93b9c",
   "metadata": {
    "collapsed": false,
    "jupyter": {
     "outputs_hidden": false
    },
    "ExecuteTime": {
     "end_time": "2024-04-08T03:13:32.470306Z",
     "start_time": "2024-04-08T03:13:32.462685Z"
    }
   },
   "source": [
    "daily_fraud_trans = daily_fraud_trans.reset_index()\n",
    "daily_fraud_trans.head()"
   ],
   "outputs": [
    {
     "data": {
      "text/plain": [
       "  trans_date  daily_fraud\n",
       "0 2018-01-05            7\n",
       "1 2018-01-06           28\n",
       "2 2018-01-07           14\n",
       "3 2018-01-09            5\n",
       "4 2018-01-10            4"
      ],
      "text/html": [
       "<div>\n",
       "<style scoped>\n",
       "    .dataframe tbody tr th:only-of-type {\n",
       "        vertical-align: middle;\n",
       "    }\n",
       "\n",
       "    .dataframe tbody tr th {\n",
       "        vertical-align: top;\n",
       "    }\n",
       "\n",
       "    .dataframe thead th {\n",
       "        text-align: right;\n",
       "    }\n",
       "</style>\n",
       "<table border=\"1\" class=\"dataframe\">\n",
       "  <thead>\n",
       "    <tr style=\"text-align: right;\">\n",
       "      <th></th>\n",
       "      <th>trans_date</th>\n",
       "      <th>daily_fraud</th>\n",
       "    </tr>\n",
       "  </thead>\n",
       "  <tbody>\n",
       "    <tr>\n",
       "      <th>0</th>\n",
       "      <td>2018-01-05</td>\n",
       "      <td>7</td>\n",
       "    </tr>\n",
       "    <tr>\n",
       "      <th>1</th>\n",
       "      <td>2018-01-06</td>\n",
       "      <td>28</td>\n",
       "    </tr>\n",
       "    <tr>\n",
       "      <th>2</th>\n",
       "      <td>2018-01-07</td>\n",
       "      <td>14</td>\n",
       "    </tr>\n",
       "    <tr>\n",
       "      <th>3</th>\n",
       "      <td>2018-01-09</td>\n",
       "      <td>5</td>\n",
       "    </tr>\n",
       "    <tr>\n",
       "      <th>4</th>\n",
       "      <td>2018-01-10</td>\n",
       "      <td>4</td>\n",
       "    </tr>\n",
       "  </tbody>\n",
       "</table>\n",
       "</div>"
      ]
     },
     "execution_count": 4,
     "metadata": {},
     "output_type": "execute_result"
    }
   ],
   "execution_count": 4
  },
  {
   "metadata": {},
   "cell_type": "markdown",
   "source": "ADDING EXTRA FEATURE: DAY OF THE WEEK",
   "id": "2132c6d8e253d47b"
  },
  {
   "metadata": {
    "ExecuteTime": {
     "end_time": "2024-04-08T03:13:32.479821Z",
     "start_time": "2024-04-08T03:13:32.473240Z"
    }
   },
   "cell_type": "code",
   "source": [
    "daily_fraud_trans['trans_date'] = pd.to_datetime(daily_fraud_trans['trans_date'])\n",
    "daily_fraud_trans['day'] = daily_fraud_trans['trans_date'].dt.day\n",
    "daily_fraud_trans.head(10)"
   ],
   "id": "eafb57fe0fbc738",
   "outputs": [
    {
     "data": {
      "text/plain": [
       "  trans_date  daily_fraud  day\n",
       "0 2018-01-05            7    5\n",
       "1 2018-01-06           28    6\n",
       "2 2018-01-07           14    7\n",
       "3 2018-01-09            5    9\n",
       "4 2018-01-10            4   10\n",
       "5 2018-01-11            5   11\n",
       "6 2018-01-12            2   12\n",
       "7 2018-01-13            3   13\n",
       "8 2018-01-14            3   14\n",
       "9 2018-01-16            4   16"
      ],
      "text/html": [
       "<div>\n",
       "<style scoped>\n",
       "    .dataframe tbody tr th:only-of-type {\n",
       "        vertical-align: middle;\n",
       "    }\n",
       "\n",
       "    .dataframe tbody tr th {\n",
       "        vertical-align: top;\n",
       "    }\n",
       "\n",
       "    .dataframe thead th {\n",
       "        text-align: right;\n",
       "    }\n",
       "</style>\n",
       "<table border=\"1\" class=\"dataframe\">\n",
       "  <thead>\n",
       "    <tr style=\"text-align: right;\">\n",
       "      <th></th>\n",
       "      <th>trans_date</th>\n",
       "      <th>daily_fraud</th>\n",
       "      <th>day</th>\n",
       "    </tr>\n",
       "  </thead>\n",
       "  <tbody>\n",
       "    <tr>\n",
       "      <th>0</th>\n",
       "      <td>2018-01-05</td>\n",
       "      <td>7</td>\n",
       "      <td>5</td>\n",
       "    </tr>\n",
       "    <tr>\n",
       "      <th>1</th>\n",
       "      <td>2018-01-06</td>\n",
       "      <td>28</td>\n",
       "      <td>6</td>\n",
       "    </tr>\n",
       "    <tr>\n",
       "      <th>2</th>\n",
       "      <td>2018-01-07</td>\n",
       "      <td>14</td>\n",
       "      <td>7</td>\n",
       "    </tr>\n",
       "    <tr>\n",
       "      <th>3</th>\n",
       "      <td>2018-01-09</td>\n",
       "      <td>5</td>\n",
       "      <td>9</td>\n",
       "    </tr>\n",
       "    <tr>\n",
       "      <th>4</th>\n",
       "      <td>2018-01-10</td>\n",
       "      <td>4</td>\n",
       "      <td>10</td>\n",
       "    </tr>\n",
       "    <tr>\n",
       "      <th>5</th>\n",
       "      <td>2018-01-11</td>\n",
       "      <td>5</td>\n",
       "      <td>11</td>\n",
       "    </tr>\n",
       "    <tr>\n",
       "      <th>6</th>\n",
       "      <td>2018-01-12</td>\n",
       "      <td>2</td>\n",
       "      <td>12</td>\n",
       "    </tr>\n",
       "    <tr>\n",
       "      <th>7</th>\n",
       "      <td>2018-01-13</td>\n",
       "      <td>3</td>\n",
       "      <td>13</td>\n",
       "    </tr>\n",
       "    <tr>\n",
       "      <th>8</th>\n",
       "      <td>2018-01-14</td>\n",
       "      <td>3</td>\n",
       "      <td>14</td>\n",
       "    </tr>\n",
       "    <tr>\n",
       "      <th>9</th>\n",
       "      <td>2018-01-16</td>\n",
       "      <td>4</td>\n",
       "      <td>16</td>\n",
       "    </tr>\n",
       "  </tbody>\n",
       "</table>\n",
       "</div>"
      ]
     },
     "execution_count": 5,
     "metadata": {},
     "output_type": "execute_result"
    }
   ],
   "execution_count": 5
  },
  {
   "metadata": {},
   "cell_type": "markdown",
   "source": "PLOT DATA",
   "id": "5caef40ddecc3c0f"
  },
  {
   "cell_type": "code",
   "id": "29401149e1bce06",
   "metadata": {
    "collapsed": false,
    "jupyter": {
     "outputs_hidden": false
    },
    "ExecuteTime": {
     "end_time": "2024-04-08T03:13:32.667902Z",
     "start_time": "2024-04-08T03:13:32.485398Z"
    }
   },
   "source": "daily_fraud_trans.plot.scatter(x='trans_date', y='daily_fraud', figsize=(16,8), color='red')",
   "outputs": [
    {
     "data": {
      "text/plain": [
       "<Axes: xlabel='trans_date', ylabel='daily_fraud'>"
      ]
     },
     "execution_count": 6,
     "metadata": {},
     "output_type": "execute_result"
    },
    {
     "data": {
      "text/plain": [
       "<Figure size 1600x800 with 1 Axes>"
      ],
      "image/png": "[encoded data removed]"
     },
     "metadata": {},
     "output_type": "display_data"
    }
   ],
   "execution_count": 6
  },
  {
   "cell_type": "markdown",
   "id": "063f6ce4-2084-4f4a-a6da-86a2b9d672cd",
   "metadata": {},
   "source": [
    "## Split Data"
   ]
  },
  {
   "metadata": {},
   "cell_type": "markdown",
   "source": "",
   "id": "5c429d70e2e52c56"
  },
  {
   "cell_type": "code",
   "id": "dbdfa51f05888f2f",
   "metadata": {
    "collapsed": false,
    "jupyter": {
     "outputs_hidden": false
    },
    "ExecuteTime": {
     "end_time": "2024-04-08T03:56:33.660793Z",
     "start_time": "2024-04-08T03:56:33.654187Z"
    }
   },
   "source": [
    "df = daily_fraud_trans.copy()\n",
    "df.head()"
   ],
   "outputs": [
    {
     "data": {
      "text/plain": [
       "  trans_date  daily_fraud  day\n",
       "0 2018-01-05            7    5\n",
       "1 2018-01-06           28    6\n",
       "2 2018-01-07           14    7\n",
       "3 2018-01-09            5    9\n",
       "4 2018-01-10            4   10"
      ],
      "text/html": [
       "<div>\n",
       "<style scoped>\n",
       "    .dataframe tbody tr th:only-of-type {\n",
       "        vertical-align: middle;\n",
       "    }\n",
       "\n",
       "    .dataframe tbody tr th {\n",
       "        vertical-align: top;\n",
       "    }\n",
       "\n",
       "    .dataframe thead th {\n",
       "        text-align: right;\n",
       "    }\n",
       "</style>\n",
       "<table border=\"1\" class=\"dataframe\">\n",
       "  <thead>\n",
       "    <tr style=\"text-align: right;\">\n",
       "      <th></th>\n",
       "      <th>trans_date</th>\n",
       "      <th>daily_fraud</th>\n",
       "      <th>day</th>\n",
       "    </tr>\n",
       "  </thead>\n",
       "  <tbody>\n",
       "    <tr>\n",
       "      <th>0</th>\n",
       "      <td>2018-01-05</td>\n",
       "      <td>7</td>\n",
       "      <td>5</td>\n",
       "    </tr>\n",
       "    <tr>\n",
       "      <th>1</th>\n",
       "      <td>2018-01-06</td>\n",
       "      <td>28</td>\n",
       "      <td>6</td>\n",
       "    </tr>\n",
       "    <tr>\n",
       "      <th>2</th>\n",
       "      <td>2018-01-07</td>\n",
       "      <td>14</td>\n",
       "      <td>7</td>\n",
       "    </tr>\n",
       "    <tr>\n",
       "      <th>3</th>\n",
       "      <td>2018-01-09</td>\n",
       "      <td>5</td>\n",
       "      <td>9</td>\n",
       "    </tr>\n",
       "    <tr>\n",
       "      <th>4</th>\n",
       "      <td>2018-01-10</td>\n",
       "      <td>4</td>\n",
       "      <td>10</td>\n",
       "    </tr>\n",
       "  </tbody>\n",
       "</table>\n",
       "</div>"
      ]
     },
     "execution_count": 82,
     "metadata": {},
     "output_type": "execute_result"
    }
   ],
   "execution_count": 82
  },
  {
   "cell_type": "code",
   "id": "28d61a9c-2e28-423f-9952-a0a2683247f2",
   "metadata": {
    "ExecuteTime": {
     "end_time": "2024-04-08T03:41:37.985948Z",
     "start_time": "2024-04-08T03:41:37.981280Z"
    }
   },
   "source": [
    "len(df)"
   ],
   "outputs": [
    {
     "data": {
      "text/plain": [
       "1189"
      ]
     },
     "execution_count": 40,
     "metadata": {},
     "output_type": "execute_result"
    }
   ],
   "execution_count": 40
  },
  {
   "cell_type": "code",
   "id": "bd98e9e0-8c3b-4dcc-a992-eeffd6fc4d38",
   "metadata": {
    "ExecuteTime": {
     "end_time": "2024-04-08T03:56:57.209073Z",
     "start_time": "2024-04-08T03:56:57.205597Z"
    }
   },
   "source": [
    "train = df.iloc[:1189-30]\n",
    "test = df.iloc[1189-30:]\n"
   ],
   "outputs": [],
   "execution_count": 85
  },
  {
   "cell_type": "markdown",
   "id": "1bc3270f-a72f-4ad0-a0b4-4e98eba774f0",
   "metadata": {},
   "source": [
    "## Scale Data"
   ]
  },
  {
   "cell_type": "code",
   "id": "0794d062-7694-45ea-a4ff-5d353bc038e1",
   "metadata": {
    "ExecuteTime": {
     "end_time": "2024-04-08T03:57:51.282109Z",
     "start_time": "2024-04-08T03:57:51.274796Z"
    }
   },
   "source": [
    "from sklearn.preprocessing import MinMaxScaler\n",
    "from sklearn.preprocessing import StandardScaler\n",
    "scaler = MinMaxScaler()\n",
    "# FIT ONLY TRAIN DATA, OTHERWISE LEAKS SOME OF THE TEST DATA\n",
    "scaler.fit(train)\n",
    "scaled_train = scaler.transform(train)\n",
    "scaled_test = scaler.transform(test)"
   ],
   "outputs": [],
   "execution_count": 86
  },
  {
   "cell_type": "code",
   "id": "e87f489d287d6788",
   "metadata": {
    "collapsed": false,
    "jupyter": {
     "outputs_hidden": false
    },
    "ExecuteTime": {
     "end_time": "2024-04-08T02:04:45.354154Z",
     "start_time": "2024-04-08T02:04:45.348290Z"
    }
   },
   "source": [],
   "outputs": [],
   "execution_count": 16
  },
  {
   "cell_type": "markdown",
   "id": "8fa16176-11a8-4dd5-a43f-7bafd775b90a",
   "metadata": {},
   "source": [
    "## Generate time series data to cover test data"
   ]
  },
  {
   "cell_type": "code",
   "id": "f5d00376-ed1c-4a22-890d-fe2b1263d227",
   "metadata": {
    "ExecuteTime": {
     "end_time": "2024-04-08T03:58:46.851321Z",
     "start_time": "2024-04-08T03:58:46.848608Z"
    }
   },
   "source": [
    "from keras.preprocessing.sequence import TimeseriesGenerator\n",
    "n_input = 7\n",
    "generator = TimeseriesGenerator(scaled_train, scaled_train, length=n_input, batch_size=2)"
   ],
   "outputs": [],
   "execution_count": 87
  },
  {
   "cell_type": "code",
   "id": "7e774a4a-9e1b-4682-8706-b019ed46035b",
   "metadata": {
    "ExecuteTime": {
     "end_time": "2024-04-08T03:58:46.911596Z",
     "start_time": "2024-04-08T03:58:46.907452Z"
    }
   },
   "source": "len(df)-7-7  # Subtract test data and then subtract elements to build first array",
   "outputs": [
    {
     "data": {
      "text/plain": [
       "1175"
      ]
     },
     "execution_count": 88,
     "metadata": {},
     "output_type": "execute_result"
    }
   ],
   "execution_count": 88
  },
  {
   "cell_type": "code",
   "id": "614e1826-2cd3-48b7-8099-4c9691afbafa",
   "metadata": {
    "ExecuteTime": {
     "end_time": "2024-04-08T03:58:46.951547Z",
     "start_time": "2024-04-08T03:58:46.947869Z"
    }
   },
   "source": [
    "len(generator)"
   ],
   "outputs": [
    {
     "data": {
      "text/plain": [
       "576"
      ]
     },
     "execution_count": 89,
     "metadata": {},
     "output_type": "execute_result"
    }
   ],
   "execution_count": 89
  },
  {
   "metadata": {
    "ExecuteTime": {
     "end_time": "2024-04-08T12:09:56.721371Z",
     "start_time": "2024-04-08T12:09:56.653809Z"
    }
   },
   "cell_type": "code",
   "source": "generator[0].shape",
   "id": "582e8de5e587c3c4",
   "outputs": [
    {
     "ename": "AttributeError",
     "evalue": "'tuple' object has no attribute 'shape'",
     "output_type": "error",
     "traceback": [
      "\u001B[0;31m---------------------------------------------------------------------------\u001B[0m",
      "\u001B[0;31mAttributeError\u001B[0m                            Traceback (most recent call last)",
      "Cell \u001B[0;32mIn[116], line 1\u001B[0m\n\u001B[0;32m----> 1\u001B[0m \u001B[43mgenerator\u001B[49m\u001B[43m[\u001B[49m\u001B[38;5;241;43m0\u001B[39;49m\u001B[43m]\u001B[49m\u001B[38;5;241;43m.\u001B[39;49m\u001B[43mshape\u001B[49m\n",
      "\u001B[0;31mAttributeError\u001B[0m: 'tuple' object has no attribute 'shape'"
     ]
    }
   ],
   "execution_count": 116
  },
  {
   "cell_type": "code",
   "id": "73fa5514-900d-4e93-bafc-58f55957904c",
   "metadata": {
    "ExecuteTime": {
     "end_time": "2024-04-08T03:58:46.975197Z",
     "start_time": "2024-04-08T03:58:46.971936Z"
    }
   },
   "source": [
    "generator[0]"
   ],
   "outputs": [
    {
     "data": {
      "text/plain": [
       "(array([[[0.2       , 0.13333333],\n",
       "         [0.9       , 0.16666667],\n",
       "         [0.43333333, 0.2       ],\n",
       "         [0.13333333, 0.26666667],\n",
       "         [0.1       , 0.3       ],\n",
       "         [0.13333333, 0.33333333],\n",
       "         [0.03333333, 0.36666667]],\n",
       " \n",
       "        [[0.9       , 0.16666667],\n",
       "         [0.43333333, 0.2       ],\n",
       "         [0.13333333, 0.26666667],\n",
       "         [0.1       , 0.3       ],\n",
       "         [0.13333333, 0.33333333],\n",
       "         [0.03333333, 0.36666667],\n",
       "         [0.06666667, 0.4       ]]]),\n",
       " array([[0.06666667, 0.4       ],\n",
       "        [0.06666667, 0.43333333]]))"
      ]
     },
     "execution_count": 90,
     "metadata": {},
     "output_type": "execute_result"
    }
   ],
   "execution_count": 90
  },
  {
   "cell_type": "code",
   "id": "2373b5dd-013a-4c49-8faa-3a5f15746379",
   "metadata": {
    "ExecuteTime": {
     "end_time": "2024-04-08T03:58:47.008437Z",
     "start_time": "2024-04-08T03:58:47.004848Z"
    }
   },
   "source": [
    "generator[0][0].shape"
   ],
   "outputs": [
    {
     "data": {
      "text/plain": [
       "(2, 7, 2)"
      ]
     },
     "execution_count": 91,
     "metadata": {},
     "output_type": "execute_result"
    }
   ],
   "execution_count": 91
  },
  {
   "cell_type": "code",
   "id": "8bbe62c0-f6b2-41b4-a66f-418c9aac2eb4",
   "metadata": {
    "ExecuteTime": {
     "end_time": "2024-04-08T03:58:47.092162Z",
     "start_time": "2024-04-08T03:58:47.088417Z"
    }
   },
   "source": [
    "generator[0][1].shape"
   ],
   "outputs": [
    {
     "data": {
      "text/plain": [
       "(2, 2)"
      ]
     },
     "execution_count": 92,
     "metadata": {},
     "output_type": "execute_result"
    }
   ],
   "execution_count": 92
  },
  {
   "cell_type": "code",
   "id": "f207d1bc-5e84-4a39-84a2-2912e1341f89",
   "metadata": {
    "tags": [],
    "ExecuteTime": {
     "end_time": "2024-04-08T03:58:47.103823Z",
     "start_time": "2024-04-08T03:58:47.101199Z"
    }
   },
   "source": "n_features=len(df.columns)",
   "outputs": [],
   "execution_count": 93
  },
  {
   "cell_type": "markdown",
   "id": "5f205b8d-b6dc-42d3-ba75-61d7ba8dbf03",
   "metadata": {},
   "source": [
    "# Create the Model"
   ]
  },
  {
   "cell_type": "code",
   "id": "473cbd76-0307-49a5-8569-74a2e90e44f9",
   "metadata": {
    "ExecuteTime": {
     "end_time": "2024-04-08T03:58:47.189221Z",
     "start_time": "2024-04-08T03:58:47.117541Z"
    }
   },
   "source": [
    "from keras.models import Sequential\n",
    "from keras.layers import Dense\n",
    "from keras.layers import LSTM\n",
    "\n",
    "model = Sequential()\n",
    "model.add(LSTM(100, activation='relu', input_shape=(n_input, n_features)))\n",
    "model.add(Dense(1))\n",
    "model.compile(optimizer='adam', loss='mse')\n",
    "\n",
    "model.summary()"
   ],
   "outputs": [
    {
     "name": "stdout",
     "output_type": "stream",
     "text": [
      "WARNING:tensorflow:Layer lstm_1 will not use cuDNN kernels since it doesn't meet the criteria. It will use a generic GPU kernel as fallback when running on GPU.\n",
      "Model: \"sequential_2\"\n",
      "_________________________________________________________________\n",
      " Layer (type)                Output Shape              Param #   \n",
      "=================================================================\n",
      " lstm_1 (LSTM)               (None, 100)               41200     \n",
      "                                                                 \n",
      " dense_1 (Dense)             (None, 1)                 101       \n",
      "                                                                 \n",
      "=================================================================\n",
      "Total params: 41301 (161.33 KB)\n",
      "Trainable params: 41301 (161.33 KB)\n",
      "Non-trainable params: 0 (0.00 Byte)\n",
      "_________________________________________________________________\n"
     ]
    }
   ],
   "execution_count": 94
  },
  {
   "cell_type": "code",
   "id": "fc13546f-5922-48a3-b93d-bd7dca69b789",
   "metadata": {
    "ExecuteTime": {
     "end_time": "2024-04-08T04:25:20.006161Z",
     "start_time": "2024-04-08T03:58:47.191270Z"
    }
   },
   "source": "model.fit(generator,epochs=35)\n",
   "outputs": [
    {
     "name": "stdout",
     "output_type": "stream",
     "text": [
      "Epoch 1/35\n"
     ]
    },
    {
     "name": "stderr",
     "output_type": "stream",
     "text": [
      "2024-04-07 23:58:47.645543: I tensorflow/core/grappler/optimizers/custom_graph_optimizer_registry.cc:114] Plugin optimizer for device_type GPU is enabled.\n"
     ]
    },
    {
     "name": "stdout",
     "output_type": "stream",
     "text": [
      "576/576 [==============================] - 40s 63ms/step - loss: 0.0725\n",
      "Epoch 2/35\n",
      "576/576 [==============================] - 36s 63ms/step - loss: 0.0627\n",
      "Epoch 3/35\n",
      "576/576 [==============================] - 29s 51ms/step - loss: 0.0620\n",
      "Epoch 4/35\n",
      "576/576 [==============================] - 26s 45ms/step - loss: 0.0614\n",
      "Epoch 5/35\n",
      "576/576 [==============================] - 26s 46ms/step - loss: 0.0609\n",
      "Epoch 6/35\n",
      "576/576 [==============================] - 26s 45ms/step - loss: 0.0604\n",
      "Epoch 7/35\n",
      "576/576 [==============================] - 30s 53ms/step - loss: 0.0603\n",
      "Epoch 8/35\n",
      "576/576 [==============================] - 38s 66ms/step - loss: 0.0598\n",
      "Epoch 9/35\n",
      "576/576 [==============================] - 37s 65ms/step - loss: 0.0599\n",
      "Epoch 10/35\n",
      "576/576 [==============================] - 34s 59ms/step - loss: 0.0600\n",
      "Epoch 11/35\n",
      "576/576 [==============================] - 40s 69ms/step - loss: 0.0601\n",
      "Epoch 12/35\n",
      "576/576 [==============================] - 40s 70ms/step - loss: 0.0595\n",
      "Epoch 13/35\n",
      "576/576 [==============================] - 47s 82ms/step - loss: 0.0594\n",
      "Epoch 14/35\n",
      "576/576 [==============================] - 38s 66ms/step - loss: 0.0593\n",
      "Epoch 15/35\n",
      "576/576 [==============================] - 38s 65ms/step - loss: 0.0595\n",
      "Epoch 16/35\n",
      "576/576 [==============================] - 40s 69ms/step - loss: 0.0595\n",
      "Epoch 17/35\n",
      "576/576 [==============================] - 40s 69ms/step - loss: 0.0593\n",
      "Epoch 18/35\n",
      "576/576 [==============================] - 41s 71ms/step - loss: 0.0595\n",
      "Epoch 19/35\n",
      "576/576 [==============================] - 43s 74ms/step - loss: 0.0595\n",
      "Epoch 20/35\n",
      "576/576 [==============================] - 41s 71ms/step - loss: 0.0595\n",
      "Epoch 21/35\n",
      "576/576 [==============================] - 46s 80ms/step - loss: 0.0593\n",
      "Epoch 22/35\n",
      "576/576 [==============================] - 53s 92ms/step - loss: 0.0593\n",
      "Epoch 23/35\n",
      "576/576 [==============================] - 59s 102ms/step - loss: 0.0592\n",
      "Epoch 24/35\n",
      "576/576 [==============================] - 58s 100ms/step - loss: 0.0590\n",
      "Epoch 25/35\n",
      "576/576 [==============================] - 59s 102ms/step - loss: 0.0590\n",
      "Epoch 26/35\n",
      "576/576 [==============================] - 60s 104ms/step - loss: 0.0587\n",
      "Epoch 27/35\n",
      "576/576 [==============================] - 59s 102ms/step - loss: 0.0589\n",
      "Epoch 28/35\n",
      "576/576 [==============================] - 59s 102ms/step - loss: 0.0585\n",
      "Epoch 29/35\n",
      "576/576 [==============================] - 59s 103ms/step - loss: 0.0591\n",
      "Epoch 30/35\n",
      "576/576 [==============================] - 58s 101ms/step - loss: 0.0584\n",
      "Epoch 31/35\n",
      "576/576 [==============================] - 58s 101ms/step - loss: 0.0586\n",
      "Epoch 32/35\n",
      "576/576 [==============================] - 59s 102ms/step - loss: 0.0585\n",
      "Epoch 33/35\n",
      "576/576 [==============================] - 58s 101ms/step - loss: 0.0587\n",
      "Epoch 34/35\n",
      "576/576 [==============================] - 58s 101ms/step - loss: 0.0583\n",
      "Epoch 35/35\n",
      "576/576 [==============================] - 59s 103ms/step - loss: 0.0585\n"
     ]
    },
    {
     "data": {
      "text/plain": [
       "<keras.src.callbacks.History at 0x34793c9d0>"
      ]
     },
     "execution_count": 95,
     "metadata": {},
     "output_type": "execute_result"
    }
   ],
   "execution_count": 95
  },
  {
   "cell_type": "code",
   "id": "fda72b1f-2a04-461e-ae5c-b70697b63776",
   "metadata": {
    "ExecuteTime": {
     "end_time": "2024-04-08T04:25:20.315804Z",
     "start_time": "2024-04-08T04:25:20.010444Z"
    }
   },
   "source": [
    "loss_per_epoch = model.history.history['loss']\n",
    "plt.plot(range(len(loss_per_epoch)),loss_per_epoch)"
   ],
   "outputs": [
    {
     "data": {
      "text/plain": [
       "[<matplotlib.lines.Line2D at 0x3474dee10>]"
      ]
     },
     "execution_count": 96,
     "metadata": {},
     "output_type": "execute_result"
    },
    {
     "data": {
      "text/plain": [
       "<Figure size 640x480 with 1 Axes>"
      ],
      "image/png": "[encoded data removed]"
     },
     "metadata": {},
     "output_type": "display_data"
    }
   ],
   "execution_count": 96
  },
  {
   "cell_type": "markdown",
   "id": "4654ac21-0472-428d-85af-4fcb81229009",
   "metadata": {},
   "source": [
    "## Evaulate the test data"
   ]
  },
  {
   "cell_type": "code",
   "id": "8cb27f52-30b9-4e03-8d14-249c860f56ab",
   "metadata": {
    "ExecuteTime": {
     "end_time": "2024-04-08T13:54:51.787790Z",
     "start_time": "2024-04-08T13:54:51.674698Z"
    }
   },
   "source": [
    "first_eval_batch = scaled_train[-n_input:]\n",
    "first_eval_batch = first_eval_batch.reshape((1, n_input, n_features))\n",
    "model.predict(first_eval_batch)\n",
    "\n",
    "first_eval_batch = scaled_train[-n_input:]\n",
    "current_batch = first_eval_batch.reshape((1, n_input, n_features))\n",
    "\n"
   ],
   "outputs": [
    {
     "name": "stdout",
     "output_type": "stream",
     "text": [
      "1/1 [==============================] - 0s 27ms/step\n"
     ]
    }
   ],
   "execution_count": 188
  },
  {
   "metadata": {
    "ExecuteTime": {
     "end_time": "2024-04-08T13:54:56.349Z",
     "start_time": "2024-04-08T13:54:56.344171Z"
    }
   },
   "cell_type": "code",
   "source": "current_batch.shape",
   "id": "1fa11173d9342d21",
   "outputs": [
    {
     "data": {
      "text/plain": [
       "(1, 7, 2)"
      ]
     },
     "execution_count": 189,
     "metadata": {},
     "output_type": "execute_result"
    }
   ],
   "execution_count": 189
  },
  {
   "cell_type": "code",
   "id": "c29ee3a0-4500-4c75-a99a-f0aace5999dc",
   "metadata": {
    "ExecuteTime": {
     "end_time": "2024-04-08T13:05:23.535683Z",
     "start_time": "2024-04-08T13:05:23.510058Z"
    }
   },
   "source": "np.append(current_batch[:,1:,:],[[[2,7]]],axis=1)",
   "outputs": [
    {
     "data": {
      "text/plain": [
       "array([[[0.6       , 0.3       ],\n",
       "        [0.16666667, 0.33333333],\n",
       "        [0.5       , 0.36666667],\n",
       "        [0.3       , 0.4       ],\n",
       "        [0.16666667, 0.43333333],\n",
       "        [0.13333333, 0.46666667],\n",
       "        [2.        , 7.        ]]])"
      ]
     },
     "execution_count": 136,
     "metadata": {},
     "output_type": "execute_result"
    }
   ],
   "execution_count": 136
  },
  {
   "cell_type": "code",
   "id": "9d3fe239-f98b-448d-9fcd-0bb691740dcc",
   "metadata": {
    "ExecuteTime": {
     "end_time": "2024-04-08T13:57:29.220384Z",
     "start_time": "2024-04-08T13:57:29.109327Z"
    }
   },
   "source": [
    "# go beyond len(test) to go into the unknown future (no way to measure success except wait!)\n",
    "for i in range(len(test)):\n",
    "    \n",
    "    # get prediction 1 time stamp ahead ([0] is for grabbing just the number instead of [array])\n",
    "    current_pred = model.predict(current_batch)[0]\n",
    "    \n",
    "    # store prediction\n",
    "    test_predictions.append(current_pred) \n",
    "    \n",
    "    # update batch to now include prediction and drop first value\n",
    "    current_batch = np.append(current_batch[:,1:,:],[[current_pred]],axis=1)\n",
    "    current_batch = current_batch.reshape((1, n_input, n_features))\n",
    "    \n",
    "  "
   ],
   "outputs": [
    {
     "name": "stdout",
     "output_type": "stream",
     "text": [
      "1/1 [==============================] - 0s 28ms/step\n"
     ]
    },
    {
     "ename": "ValueError",
     "evalue": "all the input array dimensions except for the concatenation axis must match exactly, but along dimension 2, the array at index 0 has size 2 and the array at index 1 has size 1",
     "output_type": "error",
     "traceback": [
      "\u001B[0;31m---------------------------------------------------------------------------\u001B[0m",
      "\u001B[0;31mValueError\u001B[0m                                Traceback (most recent call last)",
      "Cell \u001B[0;32mIn[190], line 11\u001B[0m\n\u001B[1;32m      8\u001B[0m test_predictions\u001B[38;5;241m.\u001B[39mappend(current_pred) \n\u001B[1;32m     10\u001B[0m \u001B[38;5;66;03m# update batch to now include prediction and drop first value\u001B[39;00m\n\u001B[0;32m---> 11\u001B[0m current_batch \u001B[38;5;241m=\u001B[39m \u001B[43mnp\u001B[49m\u001B[38;5;241;43m.\u001B[39;49m\u001B[43mappend\u001B[49m\u001B[43m(\u001B[49m\u001B[43mcurrent_batch\u001B[49m\u001B[43m[\u001B[49m\u001B[43m:\u001B[49m\u001B[43m,\u001B[49m\u001B[38;5;241;43m1\u001B[39;49m\u001B[43m:\u001B[49m\u001B[43m,\u001B[49m\u001B[43m:\u001B[49m\u001B[43m]\u001B[49m\u001B[43m,\u001B[49m\u001B[43m[\u001B[49m\u001B[43m[\u001B[49m\u001B[43mcurrent_pred\u001B[49m\u001B[43m]\u001B[49m\u001B[43m]\u001B[49m\u001B[43m,\u001B[49m\u001B[43maxis\u001B[49m\u001B[38;5;241;43m=\u001B[39;49m\u001B[38;5;241;43m1\u001B[39;49m\u001B[43m)\u001B[49m\n\u001B[1;32m     12\u001B[0m current_batch \u001B[38;5;241m=\u001B[39m current_batch\u001B[38;5;241m.\u001B[39mreshape((\u001B[38;5;241m1\u001B[39m, n_input, n_features))\n",
      "File \u001B[0;32m~/venv-metal/lib/python3.11/site-packages/numpy/lib/function_base.py:5617\u001B[0m, in \u001B[0;36mappend\u001B[0;34m(arr, values, axis)\u001B[0m\n\u001B[1;32m   5615\u001B[0m     values \u001B[38;5;241m=\u001B[39m ravel(values)\n\u001B[1;32m   5616\u001B[0m     axis \u001B[38;5;241m=\u001B[39m arr\u001B[38;5;241m.\u001B[39mndim\u001B[38;5;241m-\u001B[39m\u001B[38;5;241m1\u001B[39m\n\u001B[0;32m-> 5617\u001B[0m \u001B[38;5;28;01mreturn\u001B[39;00m \u001B[43mconcatenate\u001B[49m\u001B[43m(\u001B[49m\u001B[43m(\u001B[49m\u001B[43marr\u001B[49m\u001B[43m,\u001B[49m\u001B[43m \u001B[49m\u001B[43mvalues\u001B[49m\u001B[43m)\u001B[49m\u001B[43m,\u001B[49m\u001B[43m \u001B[49m\u001B[43maxis\u001B[49m\u001B[38;5;241;43m=\u001B[39;49m\u001B[43maxis\u001B[49m\u001B[43m)\u001B[49m\n",
      "\u001B[0;31mValueError\u001B[0m: all the input array dimensions except for the concatenation axis must match exactly, but along dimension 2, the array at index 0 has size 2 and the array at index 1 has size 1"
     ]
    }
   ],
   "execution_count": 190
  },
  {
   "cell_type": "markdown",
   "id": "d4873ac6-8478-4ee6-acf4-82410e1c8517",
   "metadata": {},
   "source": [
    "## Inverse predictions and compare"
   ]
  },
  {
   "metadata": {
    "ExecuteTime": {
     "end_time": "2024-04-08T13:43:32.377670Z",
     "start_time": "2024-04-08T13:43:32.357307Z"
    }
   },
   "cell_type": "code",
   "source": "test_predictions = test_predictions.reshape((n_input, n_features))\n",
   "id": "fae874a6f96d391",
   "outputs": [
    {
     "ename": "AttributeError",
     "evalue": "'list' object has no attribute 'reshape'",
     "output_type": "error",
     "traceback": [
      "\u001B[0;31m---------------------------------------------------------------------------\u001B[0m",
      "\u001B[0;31mAttributeError\u001B[0m                            Traceback (most recent call last)",
      "Cell \u001B[0;32mIn[182], line 1\u001B[0m\n\u001B[0;32m----> 1\u001B[0m test_predictions \u001B[38;5;241m=\u001B[39m \u001B[43mtest_predictions\u001B[49m\u001B[38;5;241;43m.\u001B[39;49m\u001B[43mreshape\u001B[49m((n_input, n_features))\n",
      "\u001B[0;31mAttributeError\u001B[0m: 'list' object has no attribute 'reshape'"
     ]
    }
   ],
   "execution_count": 182
  },
  {
   "cell_type": "code",
   "id": "6eb9fc5c-51a2-424e-802d-3203cabe87de",
   "metadata": {
    "ExecuteTime": {
     "end_time": "2024-04-08T13:35:28.731157Z",
     "start_time": "2024-04-08T13:35:28.643143Z"
    }
   },
   "source": [
    "true_predictions = scaler.inverse_transform(test_predictions[0:7])\n",
    "test['Predictions'] = true_predictions"
   ],
   "outputs": [
    {
     "ename": "ValueError",
     "evalue": "Expected 2D array, got 1D array instead:\narray=[ 0.39112076  0.80692822 -1.32272947 -2.35262966 -4.04297066 -6.15674019\n -9.41705894].\nReshape your data either using array.reshape(-1, 1) if your data has a single feature or array.reshape(1, -1) if it contains a single sample.",
     "output_type": "error",
     "traceback": [
      "\u001B[0;31m---------------------------------------------------------------------------\u001B[0m",
      "\u001B[0;31mValueError\u001B[0m                                Traceback (most recent call last)",
      "Cell \u001B[0;32mIn[177], line 1\u001B[0m\n\u001B[0;32m----> 1\u001B[0m true_predictions \u001B[38;5;241m=\u001B[39m \u001B[43mscaler\u001B[49m\u001B[38;5;241;43m.\u001B[39;49m\u001B[43minverse_transform\u001B[49m\u001B[43m(\u001B[49m\u001B[43mtest_predictions\u001B[49m\u001B[43m[\u001B[49m\u001B[38;5;241;43m0\u001B[39;49m\u001B[43m:\u001B[49m\u001B[38;5;241;43m7\u001B[39;49m\u001B[43m]\u001B[49m\u001B[43m)\u001B[49m\n\u001B[1;32m      2\u001B[0m test[\u001B[38;5;124m'\u001B[39m\u001B[38;5;124mPredictions\u001B[39m\u001B[38;5;124m'\u001B[39m] \u001B[38;5;241m=\u001B[39m true_predictions\n",
      "File \u001B[0;32m~/venv-metal/lib/python3.11/site-packages/sklearn/preprocessing/_data.py:537\u001B[0m, in \u001B[0;36mMinMaxScaler.inverse_transform\u001B[0;34m(self, X)\u001B[0m\n\u001B[1;32m    523\u001B[0m \u001B[38;5;250m\u001B[39m\u001B[38;5;124;03m\"\"\"Undo the scaling of X according to feature_range.\u001B[39;00m\n\u001B[1;32m    524\u001B[0m \n\u001B[1;32m    525\u001B[0m \u001B[38;5;124;03mParameters\u001B[39;00m\n\u001B[0;32m   (...)\u001B[0m\n\u001B[1;32m    533\u001B[0m \u001B[38;5;124;03m    Transformed data.\u001B[39;00m\n\u001B[1;32m    534\u001B[0m \u001B[38;5;124;03m\"\"\"\u001B[39;00m\n\u001B[1;32m    535\u001B[0m check_is_fitted(\u001B[38;5;28mself\u001B[39m)\n\u001B[0;32m--> 537\u001B[0m X \u001B[38;5;241m=\u001B[39m \u001B[43mcheck_array\u001B[49m\u001B[43m(\u001B[49m\n\u001B[1;32m    538\u001B[0m \u001B[43m    \u001B[49m\u001B[43mX\u001B[49m\u001B[43m,\u001B[49m\u001B[43m \u001B[49m\u001B[43mcopy\u001B[49m\u001B[38;5;241;43m=\u001B[39;49m\u001B[38;5;28;43mself\u001B[39;49m\u001B[38;5;241;43m.\u001B[39;49m\u001B[43mcopy\u001B[49m\u001B[43m,\u001B[49m\u001B[43m \u001B[49m\u001B[43mdtype\u001B[49m\u001B[38;5;241;43m=\u001B[39;49m\u001B[43mFLOAT_DTYPES\u001B[49m\u001B[43m,\u001B[49m\u001B[43m \u001B[49m\u001B[43mforce_all_finite\u001B[49m\u001B[38;5;241;43m=\u001B[39;49m\u001B[38;5;124;43m\"\u001B[39;49m\u001B[38;5;124;43mallow-nan\u001B[39;49m\u001B[38;5;124;43m\"\u001B[39;49m\n\u001B[1;32m    539\u001B[0m \u001B[43m\u001B[49m\u001B[43m)\u001B[49m\n\u001B[1;32m    541\u001B[0m X \u001B[38;5;241m-\u001B[39m\u001B[38;5;241m=\u001B[39m \u001B[38;5;28mself\u001B[39m\u001B[38;5;241m.\u001B[39mmin_\n\u001B[1;32m    542\u001B[0m X \u001B[38;5;241m/\u001B[39m\u001B[38;5;241m=\u001B[39m \u001B[38;5;28mself\u001B[39m\u001B[38;5;241m.\u001B[39mscale_\n",
      "File \u001B[0;32m~/venv-metal/lib/python3.11/site-packages/sklearn/utils/validation.py:902\u001B[0m, in \u001B[0;36mcheck_array\u001B[0;34m(array, accept_sparse, accept_large_sparse, dtype, order, copy, force_all_finite, ensure_2d, allow_nd, ensure_min_samples, ensure_min_features, estimator, input_name)\u001B[0m\n\u001B[1;32m    900\u001B[0m     \u001B[38;5;66;03m# If input is 1D raise error\u001B[39;00m\n\u001B[1;32m    901\u001B[0m     \u001B[38;5;28;01mif\u001B[39;00m array\u001B[38;5;241m.\u001B[39mndim \u001B[38;5;241m==\u001B[39m \u001B[38;5;241m1\u001B[39m:\n\u001B[0;32m--> 902\u001B[0m         \u001B[38;5;28;01mraise\u001B[39;00m \u001B[38;5;167;01mValueError\u001B[39;00m(\n\u001B[1;32m    903\u001B[0m             \u001B[38;5;124m\"\u001B[39m\u001B[38;5;124mExpected 2D array, got 1D array instead:\u001B[39m\u001B[38;5;130;01m\\n\u001B[39;00m\u001B[38;5;124marray=\u001B[39m\u001B[38;5;132;01m{}\u001B[39;00m\u001B[38;5;124m.\u001B[39m\u001B[38;5;130;01m\\n\u001B[39;00m\u001B[38;5;124m\"\u001B[39m\n\u001B[1;32m    904\u001B[0m             \u001B[38;5;124m\"\u001B[39m\u001B[38;5;124mReshape your data either using array.reshape(-1, 1) if \u001B[39m\u001B[38;5;124m\"\u001B[39m\n\u001B[1;32m    905\u001B[0m             \u001B[38;5;124m\"\u001B[39m\u001B[38;5;124myour data has a single feature or array.reshape(1, -1) \u001B[39m\u001B[38;5;124m\"\u001B[39m\n\u001B[1;32m    906\u001B[0m             \u001B[38;5;124m\"\u001B[39m\u001B[38;5;124mif it contains a single sample.\u001B[39m\u001B[38;5;124m\"\u001B[39m\u001B[38;5;241m.\u001B[39mformat(array)\n\u001B[1;32m    907\u001B[0m         )\n\u001B[1;32m    909\u001B[0m \u001B[38;5;28;01mif\u001B[39;00m dtype_numeric \u001B[38;5;129;01mand\u001B[39;00m array\u001B[38;5;241m.\u001B[39mdtype\u001B[38;5;241m.\u001B[39mkind \u001B[38;5;129;01min\u001B[39;00m \u001B[38;5;124m\"\u001B[39m\u001B[38;5;124mUSV\u001B[39m\u001B[38;5;124m\"\u001B[39m:\n\u001B[1;32m    910\u001B[0m     \u001B[38;5;28;01mraise\u001B[39;00m \u001B[38;5;167;01mValueError\u001B[39;00m(\n\u001B[1;32m    911\u001B[0m         \u001B[38;5;124m\"\u001B[39m\u001B[38;5;124mdtype=\u001B[39m\u001B[38;5;124m'\u001B[39m\u001B[38;5;124mnumeric\u001B[39m\u001B[38;5;124m'\u001B[39m\u001B[38;5;124m is not compatible with arrays of bytes/strings.\u001B[39m\u001B[38;5;124m\"\u001B[39m\n\u001B[1;32m    912\u001B[0m         \u001B[38;5;124m\"\u001B[39m\u001B[38;5;124mConvert your data to numeric values explicitly instead.\u001B[39m\u001B[38;5;124m\"\u001B[39m\n\u001B[1;32m    913\u001B[0m     )\n",
      "\u001B[0;31mValueError\u001B[0m: Expected 2D array, got 1D array instead:\narray=[ 0.39112076  0.80692822 -1.32272947 -2.35262966 -4.04297066 -6.15674019\n -9.41705894].\nReshape your data either using array.reshape(-1, 1) if your data has a single feature or array.reshape(1, -1) if it contains a single sample."
     ]
    }
   ],
   "execution_count": 177
  },
  {
   "metadata": {
    "ExecuteTime": {
     "end_time": "2024-04-08T12:06:23.631345Z",
     "start_time": "2024-04-08T12:06:23.621864Z"
    }
   },
   "cell_type": "code",
   "source": "test.head()",
   "id": "a68f4d6413c88d9e",
   "outputs": [
    {
     "data": {
      "text/plain": [
       "            daily_fraud  day\n",
       "trans_date                  \n",
       "2022-11-16           12   16\n",
       "2022-11-17            8   17\n",
       "2022-11-20            6   20\n",
       "2022-11-21            6   21\n",
       "2022-11-24            1   24"
      ],
      "text/html": [
       "<div>\n",
       "<style scoped>\n",
       "    .dataframe tbody tr th:only-of-type {\n",
       "        vertical-align: middle;\n",
       "    }\n",
       "\n",
       "    .dataframe tbody tr th {\n",
       "        vertical-align: top;\n",
       "    }\n",
       "\n",
       "    .dataframe thead th {\n",
       "        text-align: right;\n",
       "    }\n",
       "</style>\n",
       "<table border=\"1\" class=\"dataframe\">\n",
       "  <thead>\n",
       "    <tr style=\"text-align: right;\">\n",
       "      <th></th>\n",
       "      <th>daily_fraud</th>\n",
       "      <th>day</th>\n",
       "    </tr>\n",
       "    <tr>\n",
       "      <th>trans_date</th>\n",
       "      <th></th>\n",
       "      <th></th>\n",
       "    </tr>\n",
       "  </thead>\n",
       "  <tbody>\n",
       "    <tr>\n",
       "      <th>2022-11-16</th>\n",
       "      <td>12</td>\n",
       "      <td>16</td>\n",
       "    </tr>\n",
       "    <tr>\n",
       "      <th>2022-11-17</th>\n",
       "      <td>8</td>\n",
       "      <td>17</td>\n",
       "    </tr>\n",
       "    <tr>\n",
       "      <th>2022-11-20</th>\n",
       "      <td>6</td>\n",
       "      <td>20</td>\n",
       "    </tr>\n",
       "    <tr>\n",
       "      <th>2022-11-21</th>\n",
       "      <td>6</td>\n",
       "      <td>21</td>\n",
       "    </tr>\n",
       "    <tr>\n",
       "      <th>2022-11-24</th>\n",
       "      <td>1</td>\n",
       "      <td>24</td>\n",
       "    </tr>\n",
       "  </tbody>\n",
       "</table>\n",
       "</div>"
      ]
     },
     "execution_count": 111,
     "metadata": {},
     "output_type": "execute_result"
    }
   ],
   "execution_count": 111
  },
  {
   "cell_type": "code",
   "id": "5f23a17c-fb2e-4dff-822b-1eeb5e4a255e",
   "metadata": {
    "ExecuteTime": {
     "end_time": "2024-04-08T12:06:33.423751Z",
     "start_time": "2024-04-08T12:06:33.219913Z"
    }
   },
   "source": "test.plot(figsize=(12,8))",
   "outputs": [
    {
     "data": {
      "text/plain": [
       "<Axes: xlabel='trans_date'>"
      ]
     },
     "execution_count": 112,
     "metadata": {},
     "output_type": "execute_result"
    },
    {
     "data": {
      "text/plain": [
       "<Figure size 1200x800 with 1 Axes>"
      ],
      "image/png": "[encoded data removed]"
     },
     "metadata": {},
     "output_type": "display_data"
    }
   ],
   "execution_count": 112
  },
  {
   "cell_type": "code",
   "id": "baa00c42-832f-4b10-af70-67e59593e093",
   "metadata": {
    "ExecuteTime": {
     "end_time": "2024-04-08T18:03:13.136774Z",
     "start_time": "2024-04-08T18:03:12.388190Z"
    }
   },
   "source": [
    "from sklearn.metrics import mean_squared_error\n",
    "from math import sqrt\n",
    "rmse=sqrt(mean_squared_error(test['daily_fraud'], test['Predictions']))\n",
    "mse=mean_squared_error(test['daily_fraud'], test['Predictions'])\n",
    "print(rmse)\n",
    "print(mse)"
   ],
   "outputs": [
    {
     "ename": "NameError",
     "evalue": "name 'test' is not defined",
     "output_type": "error",
     "traceback": [
      "\u001B[0;31m---------------------------------------------------------------------------\u001B[0m",
      "\u001B[0;31mNameError\u001B[0m                                 Traceback (most recent call last)",
      "Cell \u001B[0;32mIn[1], line 3\u001B[0m\n\u001B[1;32m      1\u001B[0m \u001B[38;5;28;01mfrom\u001B[39;00m \u001B[38;5;21;01msklearn\u001B[39;00m\u001B[38;5;21;01m.\u001B[39;00m\u001B[38;5;21;01mmetrics\u001B[39;00m \u001B[38;5;28;01mimport\u001B[39;00m mean_squared_error\n\u001B[1;32m      2\u001B[0m \u001B[38;5;28;01mfrom\u001B[39;00m \u001B[38;5;21;01mmath\u001B[39;00m \u001B[38;5;28;01mimport\u001B[39;00m sqrt\n\u001B[0;32m----> 3\u001B[0m rmse\u001B[38;5;241m=\u001B[39msqrt(mean_squared_error(\u001B[43mtest\u001B[49m[\u001B[38;5;124m'\u001B[39m\u001B[38;5;124mdaily_fraud\u001B[39m\u001B[38;5;124m'\u001B[39m], test[\u001B[38;5;124m'\u001B[39m\u001B[38;5;124mPredictions\u001B[39m\u001B[38;5;124m'\u001B[39m]))\n\u001B[1;32m      4\u001B[0m mse\u001B[38;5;241m=\u001B[39mmean_squared_error(test[\u001B[38;5;124m'\u001B[39m\u001B[38;5;124mdaily_fraud\u001B[39m\u001B[38;5;124m'\u001B[39m], test[\u001B[38;5;124m'\u001B[39m\u001B[38;5;124mPredictions\u001B[39m\u001B[38;5;124m'\u001B[39m])\n\u001B[1;32m      5\u001B[0m \u001B[38;5;28mprint\u001B[39m(rmse)\n",
      "\u001B[0;31mNameError\u001B[0m: name 'test' is not defined"
     ]
    }
   ],
   "execution_count": 1
  },
  {
   "metadata": {},
   "cell_type": "markdown",
   "source": "Extra Variable: Day of the Week",
   "id": "2cdfb9cdc395bd7f"
  }
 ],
 "metadata": {
  "kernelspec": {
   "display_name": "Python 3 (ipykernel)",
   "language": "python",
   "name": "python3"
  },
  "language_info": {
   "codemirror_mode": {
    "name": "ipython",
    "version": 3
   },
   "file_extension": ".py",
   "mimetype": "text/x-python",
   "name": "python",
   "nbconvert_exporter": "python",
   "pygments_lexer": "ipython3",
   "version": "3.11.7"
  }
 },
 "nbformat": 4,
 "nbformat_minor": 5
}
