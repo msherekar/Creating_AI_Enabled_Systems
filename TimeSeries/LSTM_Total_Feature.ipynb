{
 "cells": [
  {
   "metadata": {},
   "cell_type": "markdown",
   "source": "## LOAD LIBRARIES",
   "id": "c004a8a6e96d63d6"
  },
  {
   "cell_type": "code",
   "id": "4a2c9145-c3a8-4b48-9ef3-1eeb0207b5f8",
   "metadata": {
    "tags": [],
    "ExecuteTime": {
     "end_time": "2024-04-08T18:12:03.283561Z",
     "start_time": "2024-04-08T18:11:59.736107Z"
    }
   },
   "source": [
    "import pandas as pd\n",
    "import numpy as np\n",
    "import matplotlib.pyplot as plt\n",
    "import tensorflow as tf"
   ],
   "outputs": [],
   "execution_count": 2
  },
  {
   "metadata": {},
   "cell_type": "markdown",
   "source": "## LOAD DATA",
   "id": "ab1c04c20402655a"
  },
  {
   "cell_type": "code",
   "id": "bf0b94eb-ecc3-4746-bd1e-2b8c6f564058",
   "metadata": {
    "tags": [],
    "ExecuteTime": {
     "end_time": "2024-04-08T04:11:48.342380Z",
     "start_time": "2024-04-08T04:11:15.906797Z"
    }
   },
   "source": [
    "df = pd.read_csv('data/CreditCardFraudFourYears.csv', index_col=0)\n",
    "df.head(1)"
   ],
   "outputs": [
    {
     "data": {
      "text/plain": [
       "           ssn            cc_num  first     last gender  \\\n",
       "0  765-75-7020  3553287101226916  James  Carlson      M   \n",
       "\n",
       "                     street        city state    zip      lat  ...  \\\n",
       "0  480 Erin Plain Suite 514  Wilmington    DE  19802  39.7564  ...   \n",
       "\n",
       "                          trans_num  trans_date trans_time   unix_time  \\\n",
       "0  79fc4fa0f0cd9659311b2d49cfe4a4fc  2019-11-07   03:40:47  1573116047   \n",
       "\n",
       "      category    amt is_fraud           merchant  merch_lat  merch_long  \n",
       "0  grocery_pos  339.8        1  fraud_Bradtke PLC  39.817013  -76.261575  \n",
       "\n",
       "[1 rows x 26 columns]"
      ],
      "text/html": [
       "<div>\n",
       "<style scoped>\n",
       "    .dataframe tbody tr th:only-of-type {\n",
       "        vertical-align: middle;\n",
       "    }\n",
       "\n",
       "    .dataframe tbody tr th {\n",
       "        vertical-align: top;\n",
       "    }\n",
       "\n",
       "    .dataframe thead th {\n",
       "        text-align: right;\n",
       "    }\n",
       "</style>\n",
       "<table border=\"1\" class=\"dataframe\">\n",
       "  <thead>\n",
       "    <tr style=\"text-align: right;\">\n",
       "      <th></th>\n",
       "      <th>ssn</th>\n",
       "      <th>cc_num</th>\n",
       "      <th>first</th>\n",
       "      <th>last</th>\n",
       "      <th>gender</th>\n",
       "      <th>street</th>\n",
       "      <th>city</th>\n",
       "      <th>state</th>\n",
       "      <th>zip</th>\n",
       "      <th>lat</th>\n",
       "      <th>...</th>\n",
       "      <th>trans_num</th>\n",
       "      <th>trans_date</th>\n",
       "      <th>trans_time</th>\n",
       "      <th>unix_time</th>\n",
       "      <th>category</th>\n",
       "      <th>amt</th>\n",
       "      <th>is_fraud</th>\n",
       "      <th>merchant</th>\n",
       "      <th>merch_lat</th>\n",
       "      <th>merch_long</th>\n",
       "    </tr>\n",
       "  </thead>\n",
       "  <tbody>\n",
       "    <tr>\n",
       "      <th>0</th>\n",
       "      <td>765-75-7020</td>\n",
       "      <td>3553287101226916</td>\n",
       "      <td>James</td>\n",
       "      <td>Carlson</td>\n",
       "      <td>M</td>\n",
       "      <td>480 Erin Plain Suite 514</td>\n",
       "      <td>Wilmington</td>\n",
       "      <td>DE</td>\n",
       "      <td>19802</td>\n",
       "      <td>39.7564</td>\n",
       "      <td>...</td>\n",
       "      <td>79fc4fa0f0cd9659311b2d49cfe4a4fc</td>\n",
       "      <td>2019-11-07</td>\n",
       "      <td>03:40:47</td>\n",
       "      <td>1573116047</td>\n",
       "      <td>grocery_pos</td>\n",
       "      <td>339.8</td>\n",
       "      <td>1</td>\n",
       "      <td>fraud_Bradtke PLC</td>\n",
       "      <td>39.817013</td>\n",
       "      <td>-76.261575</td>\n",
       "    </tr>\n",
       "  </tbody>\n",
       "</table>\n",
       "<p>1 rows × 26 columns</p>\n",
       "</div>"
      ]
     },
     "execution_count": 43,
     "metadata": {},
     "output_type": "execute_result"
    }
   ],
   "execution_count": 43
  },
  {
   "metadata": {},
   "cell_type": "markdown",
   "source": "## GROUP DATA BY DAY/DATE",
   "id": "a7e53123e26e53c9"
  },
  {
   "cell_type": "code",
   "id": "19942744-bde1-420a-800c-13e4a16ced08",
   "metadata": {
    "ExecuteTime": {
     "end_time": "2024-04-08T04:11:48.629004Z",
     "start_time": "2024-04-08T04:11:48.354071Z"
    }
   },
   "source": [
    "daily_transactions = df.groupby('trans_date').size()\n",
    "daily_transactions.index = pd.to_datetime(daily_transactions.index)\n",
    "daily_transactions = daily_transactions.rename('trans_per_day')\n",
    "daily_transactions.head()\n",
    "                                               "
   ],
   "outputs": [
    {
     "data": {
      "text/plain": [
       "trans_date\n",
       "2018-01-01    1016\n",
       "2018-01-02    1193\n",
       "2018-01-03    1131\n",
       "2018-01-04    1170\n",
       "2018-01-05    1851\n",
       "Name: trans_per_day, dtype: int64"
      ]
     },
     "execution_count": 44,
     "metadata": {},
     "output_type": "execute_result"
    }
   ],
   "execution_count": 44
  },
  {
   "cell_type": "code",
   "id": "f72690d668e93b9c",
   "metadata": {
    "collapsed": false,
    "jupyter": {
     "outputs_hidden": false
    },
    "ExecuteTime": {
     "end_time": "2024-04-08T04:11:48.645665Z",
     "start_time": "2024-04-08T04:11:48.635756Z"
    }
   },
   "source": [
    "df = daily_transactions.reset_index()\n",
    "df.head()"
   ],
   "outputs": [
    {
     "data": {
      "text/plain": [
       "  trans_date  trans_per_day\n",
       "0 2018-01-01           1016\n",
       "1 2018-01-02           1193\n",
       "2 2018-01-03           1131\n",
       "3 2018-01-04           1170\n",
       "4 2018-01-05           1851"
      ],
      "text/html": [
       "<div>\n",
       "<style scoped>\n",
       "    .dataframe tbody tr th:only-of-type {\n",
       "        vertical-align: middle;\n",
       "    }\n",
       "\n",
       "    .dataframe tbody tr th {\n",
       "        vertical-align: top;\n",
       "    }\n",
       "\n",
       "    .dataframe thead th {\n",
       "        text-align: right;\n",
       "    }\n",
       "</style>\n",
       "<table border=\"1\" class=\"dataframe\">\n",
       "  <thead>\n",
       "    <tr style=\"text-align: right;\">\n",
       "      <th></th>\n",
       "      <th>trans_date</th>\n",
       "      <th>trans_per_day</th>\n",
       "    </tr>\n",
       "  </thead>\n",
       "  <tbody>\n",
       "    <tr>\n",
       "      <th>0</th>\n",
       "      <td>2018-01-01</td>\n",
       "      <td>1016</td>\n",
       "    </tr>\n",
       "    <tr>\n",
       "      <th>1</th>\n",
       "      <td>2018-01-02</td>\n",
       "      <td>1193</td>\n",
       "    </tr>\n",
       "    <tr>\n",
       "      <th>2</th>\n",
       "      <td>2018-01-03</td>\n",
       "      <td>1131</td>\n",
       "    </tr>\n",
       "    <tr>\n",
       "      <th>3</th>\n",
       "      <td>2018-01-04</td>\n",
       "      <td>1170</td>\n",
       "    </tr>\n",
       "    <tr>\n",
       "      <th>4</th>\n",
       "      <td>2018-01-05</td>\n",
       "      <td>1851</td>\n",
       "    </tr>\n",
       "  </tbody>\n",
       "</table>\n",
       "</div>"
      ]
     },
     "execution_count": 45,
     "metadata": {},
     "output_type": "execute_result"
    }
   ],
   "execution_count": 45
  },
  {
   "metadata": {
    "ExecuteTime": {
     "end_time": "2024-04-08T04:11:48.655295Z",
     "start_time": "2024-04-08T04:11:48.646311Z"
    }
   },
   "cell_type": "code",
   "source": [
    "df['trans_date'] = pd.to_datetime(df['trans_date'])\n",
    "df['day'] = df['trans_date'].dt.day\n",
    "df.head(10)"
   ],
   "id": "d1afe5b42d267680",
   "outputs": [
    {
     "data": {
      "text/plain": [
       "  trans_date  trans_per_day  day\n",
       "0 2018-01-01           1016    1\n",
       "1 2018-01-02           1193    2\n",
       "2 2018-01-03           1131    3\n",
       "3 2018-01-04           1170    4\n",
       "4 2018-01-05           1851    5\n",
       "5 2018-01-06           2149    6\n",
       "6 2018-01-07           2131    7\n",
       "7 2018-01-08            942    8\n",
       "8 2018-01-09           1077    9\n",
       "9 2018-01-10           1291   10"
      ],
      "text/html": [
       "<div>\n",
       "<style scoped>\n",
       "    .dataframe tbody tr th:only-of-type {\n",
       "        vertical-align: middle;\n",
       "    }\n",
       "\n",
       "    .dataframe tbody tr th {\n",
       "        vertical-align: top;\n",
       "    }\n",
       "\n",
       "    .dataframe thead th {\n",
       "        text-align: right;\n",
       "    }\n",
       "</style>\n",
       "<table border=\"1\" class=\"dataframe\">\n",
       "  <thead>\n",
       "    <tr style=\"text-align: right;\">\n",
       "      <th></th>\n",
       "      <th>trans_date</th>\n",
       "      <th>trans_per_day</th>\n",
       "      <th>day</th>\n",
       "    </tr>\n",
       "  </thead>\n",
       "  <tbody>\n",
       "    <tr>\n",
       "      <th>0</th>\n",
       "      <td>2018-01-01</td>\n",
       "      <td>1016</td>\n",
       "      <td>1</td>\n",
       "    </tr>\n",
       "    <tr>\n",
       "      <th>1</th>\n",
       "      <td>2018-01-02</td>\n",
       "      <td>1193</td>\n",
       "      <td>2</td>\n",
       "    </tr>\n",
       "    <tr>\n",
       "      <th>2</th>\n",
       "      <td>2018-01-03</td>\n",
       "      <td>1131</td>\n",
       "      <td>3</td>\n",
       "    </tr>\n",
       "    <tr>\n",
       "      <th>3</th>\n",
       "      <td>2018-01-04</td>\n",
       "      <td>1170</td>\n",
       "      <td>4</td>\n",
       "    </tr>\n",
       "    <tr>\n",
       "      <th>4</th>\n",
       "      <td>2018-01-05</td>\n",
       "      <td>1851</td>\n",
       "      <td>5</td>\n",
       "    </tr>\n",
       "    <tr>\n",
       "      <th>5</th>\n",
       "      <td>2018-01-06</td>\n",
       "      <td>2149</td>\n",
       "      <td>6</td>\n",
       "    </tr>\n",
       "    <tr>\n",
       "      <th>6</th>\n",
       "      <td>2018-01-07</td>\n",
       "      <td>2131</td>\n",
       "      <td>7</td>\n",
       "    </tr>\n",
       "    <tr>\n",
       "      <th>7</th>\n",
       "      <td>2018-01-08</td>\n",
       "      <td>942</td>\n",
       "      <td>8</td>\n",
       "    </tr>\n",
       "    <tr>\n",
       "      <th>8</th>\n",
       "      <td>2018-01-09</td>\n",
       "      <td>1077</td>\n",
       "      <td>9</td>\n",
       "    </tr>\n",
       "    <tr>\n",
       "      <th>9</th>\n",
       "      <td>2018-01-10</td>\n",
       "      <td>1291</td>\n",
       "      <td>10</td>\n",
       "    </tr>\n",
       "  </tbody>\n",
       "</table>\n",
       "</div>"
      ]
     },
     "execution_count": 46,
     "metadata": {},
     "output_type": "execute_result"
    }
   ],
   "execution_count": 46
  },
  {
   "metadata": {},
   "cell_type": "markdown",
   "source": "## PLOT",
   "id": "c837b1dad639f09a"
  },
  {
   "cell_type": "code",
   "id": "29401149e1bce06",
   "metadata": {
    "collapsed": false,
    "jupyter": {
     "outputs_hidden": false
    },
    "ExecuteTime": {
     "end_time": "2024-04-08T04:11:49.246391Z",
     "start_time": "2024-04-08T04:11:48.657319Z"
    }
   },
   "source": [
    "df.plot.scatter(x='trans_date', y='trans_per_day', figsize=(16,8))"
   ],
   "outputs": [
    {
     "data": {
      "text/plain": [
       "<Axes: xlabel='trans_date', ylabel='trans_per_day'>"
      ]
     },
     "execution_count": 47,
     "metadata": {},
     "output_type": "execute_result"
    },
    {
     "data": {
      "text/plain": [
       "<Figure size 1600x800 with 1 Axes>"
      ],
      "image/png": "[encoded data removed]"
     },
     "metadata": {},
     "output_type": "display_data"
    }
   ],
   "execution_count": 47
  },
  {
   "cell_type": "code",
   "id": "985e64f2-321e-4095-b99c-844c328635ca",
   "metadata": {
    "ExecuteTime": {
     "end_time": "2024-04-08T04:11:49.259278Z",
     "start_time": "2024-04-08T04:11:49.248751Z"
    }
   },
   "source": [
    "df.set_index('trans_date', inplace=True)\n",
    "df.head()"
   ],
   "outputs": [
    {
     "data": {
      "text/plain": [
       "            trans_per_day  day\n",
       "trans_date                    \n",
       "2018-01-01           1016    1\n",
       "2018-01-02           1193    2\n",
       "2018-01-03           1131    3\n",
       "2018-01-04           1170    4\n",
       "2018-01-05           1851    5"
      ],
      "text/html": [
       "<div>\n",
       "<style scoped>\n",
       "    .dataframe tbody tr th:only-of-type {\n",
       "        vertical-align: middle;\n",
       "    }\n",
       "\n",
       "    .dataframe tbody tr th {\n",
       "        vertical-align: top;\n",
       "    }\n",
       "\n",
       "    .dataframe thead th {\n",
       "        text-align: right;\n",
       "    }\n",
       "</style>\n",
       "<table border=\"1\" class=\"dataframe\">\n",
       "  <thead>\n",
       "    <tr style=\"text-align: right;\">\n",
       "      <th></th>\n",
       "      <th>trans_per_day</th>\n",
       "      <th>day</th>\n",
       "    </tr>\n",
       "    <tr>\n",
       "      <th>trans_date</th>\n",
       "      <th></th>\n",
       "      <th></th>\n",
       "    </tr>\n",
       "  </thead>\n",
       "  <tbody>\n",
       "    <tr>\n",
       "      <th>2018-01-01</th>\n",
       "      <td>1016</td>\n",
       "      <td>1</td>\n",
       "    </tr>\n",
       "    <tr>\n",
       "      <th>2018-01-02</th>\n",
       "      <td>1193</td>\n",
       "      <td>2</td>\n",
       "    </tr>\n",
       "    <tr>\n",
       "      <th>2018-01-03</th>\n",
       "      <td>1131</td>\n",
       "      <td>3</td>\n",
       "    </tr>\n",
       "    <tr>\n",
       "      <th>2018-01-04</th>\n",
       "      <td>1170</td>\n",
       "      <td>4</td>\n",
       "    </tr>\n",
       "    <tr>\n",
       "      <th>2018-01-05</th>\n",
       "      <td>1851</td>\n",
       "      <td>5</td>\n",
       "    </tr>\n",
       "  </tbody>\n",
       "</table>\n",
       "</div>"
      ]
     },
     "execution_count": 48,
     "metadata": {},
     "output_type": "execute_result"
    }
   ],
   "execution_count": 48
  },
  {
   "cell_type": "markdown",
   "id": "063f6ce4-2084-4f4a-a6da-86a2b9d672cd",
   "metadata": {},
   "source": [
    "## Split Data"
   ]
  },
  {
   "metadata": {},
   "cell_type": "markdown",
   "source": "",
   "id": "5c429d70e2e52c56"
  },
  {
   "cell_type": "code",
   "id": "dbdfa51f05888f2f",
   "metadata": {
    "collapsed": false,
    "jupyter": {
     "outputs_hidden": false
    },
    "ExecuteTime": {
     "end_time": "2024-04-08T04:11:49.275056Z",
     "start_time": "2024-04-08T04:11:49.260949Z"
    }
   },
   "source": [
    "df.head()"
   ],
   "outputs": [
    {
     "data": {
      "text/plain": [
       "            trans_per_day  day\n",
       "trans_date                    \n",
       "2018-01-01           1016    1\n",
       "2018-01-02           1193    2\n",
       "2018-01-03           1131    3\n",
       "2018-01-04           1170    4\n",
       "2018-01-05           1851    5"
      ],
      "text/html": [
       "<div>\n",
       "<style scoped>\n",
       "    .dataframe tbody tr th:only-of-type {\n",
       "        vertical-align: middle;\n",
       "    }\n",
       "\n",
       "    .dataframe tbody tr th {\n",
       "        vertical-align: top;\n",
       "    }\n",
       "\n",
       "    .dataframe thead th {\n",
       "        text-align: right;\n",
       "    }\n",
       "</style>\n",
       "<table border=\"1\" class=\"dataframe\">\n",
       "  <thead>\n",
       "    <tr style=\"text-align: right;\">\n",
       "      <th></th>\n",
       "      <th>trans_per_day</th>\n",
       "      <th>day</th>\n",
       "    </tr>\n",
       "    <tr>\n",
       "      <th>trans_date</th>\n",
       "      <th></th>\n",
       "      <th></th>\n",
       "    </tr>\n",
       "  </thead>\n",
       "  <tbody>\n",
       "    <tr>\n",
       "      <th>2018-01-01</th>\n",
       "      <td>1016</td>\n",
       "      <td>1</td>\n",
       "    </tr>\n",
       "    <tr>\n",
       "      <th>2018-01-02</th>\n",
       "      <td>1193</td>\n",
       "      <td>2</td>\n",
       "    </tr>\n",
       "    <tr>\n",
       "      <th>2018-01-03</th>\n",
       "      <td>1131</td>\n",
       "      <td>3</td>\n",
       "    </tr>\n",
       "    <tr>\n",
       "      <th>2018-01-04</th>\n",
       "      <td>1170</td>\n",
       "      <td>4</td>\n",
       "    </tr>\n",
       "    <tr>\n",
       "      <th>2018-01-05</th>\n",
       "      <td>1851</td>\n",
       "      <td>5</td>\n",
       "    </tr>\n",
       "  </tbody>\n",
       "</table>\n",
       "</div>"
      ]
     },
     "execution_count": 49,
     "metadata": {},
     "output_type": "execute_result"
    }
   ],
   "execution_count": 49
  },
  {
   "cell_type": "code",
   "id": "28d61a9c-2e28-423f-9952-a0a2683247f2",
   "metadata": {
    "ExecuteTime": {
     "end_time": "2024-04-08T04:11:49.284184Z",
     "start_time": "2024-04-08T04:11:49.279115Z"
    }
   },
   "source": [
    "len(df)"
   ],
   "outputs": [
    {
     "data": {
      "text/plain": [
       "1826"
      ]
     },
     "execution_count": 50,
     "metadata": {},
     "output_type": "execute_result"
    }
   ],
   "execution_count": 50
  },
  {
   "cell_type": "code",
   "id": "bd98e9e0-8c3b-4dcc-a992-eeffd6fc4d38",
   "metadata": {
    "ExecuteTime": {
     "end_time": "2024-04-08T04:11:49.291963Z",
     "start_time": "2024-04-08T04:11:49.289320Z"
    }
   },
   "source": [
    "train = df.iloc[:1826-30]\n",
    "test = df.iloc[1826-30:]\n"
   ],
   "outputs": [],
   "execution_count": 51
  },
  {
   "cell_type": "code",
   "id": "8a9923f7-55c8-4080-8667-e094c65a4955",
   "metadata": {
    "ExecuteTime": {
     "end_time": "2024-04-08T04:11:49.303637Z",
     "start_time": "2024-04-08T04:11:49.293699Z"
    }
   },
   "source": [
    "len(test)"
   ],
   "outputs": [
    {
     "data": {
      "text/plain": [
       "30"
      ]
     },
     "execution_count": 52,
     "metadata": {},
     "output_type": "execute_result"
    }
   ],
   "execution_count": 52
  },
  {
   "cell_type": "markdown",
   "id": "1bc3270f-a72f-4ad0-a0b4-4e98eba774f0",
   "metadata": {},
   "source": [
    "## Scale Data"
   ]
  },
  {
   "cell_type": "code",
   "id": "0794d062-7694-45ea-a4ff-5d353bc038e1",
   "metadata": {
    "ExecuteTime": {
     "end_time": "2024-04-08T04:11:49.316559Z",
     "start_time": "2024-04-08T04:11:49.306508Z"
    }
   },
   "source": [
    "from sklearn.preprocessing import MinMaxScaler\n",
    "scaler = MinMaxScaler()\n",
    "# FIT ONLY TRAIN DATA, OTHERWISE LEAKS SOME OF THE TEST DATA\n",
    "scaler.fit(train)\n",
    "\n",
    "scaled_train = scaler.transform(train)\n",
    "scaled_test = scaler.transform(test)"
   ],
   "outputs": [],
   "execution_count": 53
  },
  {
   "cell_type": "code",
   "id": "e87f489d287d6788",
   "metadata": {
    "collapsed": false,
    "jupyter": {
     "outputs_hidden": false
    },
    "ExecuteTime": {
     "end_time": "2024-04-08T04:11:49.322313Z",
     "start_time": "2024-04-08T04:11:49.319449Z"
    }
   },
   "source": [],
   "outputs": [],
   "execution_count": 53
  },
  {
   "cell_type": "markdown",
   "id": "8fa16176-11a8-4dd5-a43f-7bafd775b90a",
   "metadata": {},
   "source": [
    "## Generate time series data to cover test data"
   ]
  },
  {
   "cell_type": "code",
   "id": "f5d00376-ed1c-4a22-890d-fe2b1263d227",
   "metadata": {
    "ExecuteTime": {
     "end_time": "2024-04-08T04:11:49.327694Z",
     "start_time": "2024-04-08T04:11:49.324276Z"
    }
   },
   "source": [
    "from keras.preprocessing.sequence import TimeseriesGenerator\n",
    "n_input = 7\n",
    "generator = TimeseriesGenerator(scaled_train, scaled_train, length=n_input, batch_size=2)"
   ],
   "outputs": [],
   "execution_count": 54
  },
  {
   "cell_type": "code",
   "id": "7e774a4a-9e1b-4682-8706-b019ed46035b",
   "metadata": {
    "ExecuteTime": {
     "end_time": "2024-04-08T04:11:49.338118Z",
     "start_time": "2024-04-08T04:11:49.330618Z"
    }
   },
   "source": "len(df)-7-7  # Subtract test data and then subtract elements to build first array",
   "outputs": [
    {
     "data": {
      "text/plain": [
       "1812"
      ]
     },
     "execution_count": 55,
     "metadata": {},
     "output_type": "execute_result"
    }
   ],
   "execution_count": 55
  },
  {
   "cell_type": "code",
   "id": "db5809c6-4fef-4f05-96d5-babc61ee4bd3",
   "metadata": {
    "tags": [],
    "ExecuteTime": {
     "end_time": "2024-04-08T04:11:49.348774Z",
     "start_time": "2024-04-08T04:11:49.340459Z"
    }
   },
   "source": [
    "df.head()"
   ],
   "outputs": [
    {
     "data": {
      "text/plain": [
       "            trans_per_day  day\n",
       "trans_date                    \n",
       "2018-01-01           1016    1\n",
       "2018-01-02           1193    2\n",
       "2018-01-03           1131    3\n",
       "2018-01-04           1170    4\n",
       "2018-01-05           1851    5"
      ],
      "text/html": [
       "<div>\n",
       "<style scoped>\n",
       "    .dataframe tbody tr th:only-of-type {\n",
       "        vertical-align: middle;\n",
       "    }\n",
       "\n",
       "    .dataframe tbody tr th {\n",
       "        vertical-align: top;\n",
       "    }\n",
       "\n",
       "    .dataframe thead th {\n",
       "        text-align: right;\n",
       "    }\n",
       "</style>\n",
       "<table border=\"1\" class=\"dataframe\">\n",
       "  <thead>\n",
       "    <tr style=\"text-align: right;\">\n",
       "      <th></th>\n",
       "      <th>trans_per_day</th>\n",
       "      <th>day</th>\n",
       "    </tr>\n",
       "    <tr>\n",
       "      <th>trans_date</th>\n",
       "      <th></th>\n",
       "      <th></th>\n",
       "    </tr>\n",
       "  </thead>\n",
       "  <tbody>\n",
       "    <tr>\n",
       "      <th>2018-01-01</th>\n",
       "      <td>1016</td>\n",
       "      <td>1</td>\n",
       "    </tr>\n",
       "    <tr>\n",
       "      <th>2018-01-02</th>\n",
       "      <td>1193</td>\n",
       "      <td>2</td>\n",
       "    </tr>\n",
       "    <tr>\n",
       "      <th>2018-01-03</th>\n",
       "      <td>1131</td>\n",
       "      <td>3</td>\n",
       "    </tr>\n",
       "    <tr>\n",
       "      <th>2018-01-04</th>\n",
       "      <td>1170</td>\n",
       "      <td>4</td>\n",
       "    </tr>\n",
       "    <tr>\n",
       "      <th>2018-01-05</th>\n",
       "      <td>1851</td>\n",
       "      <td>5</td>\n",
       "    </tr>\n",
       "  </tbody>\n",
       "</table>\n",
       "</div>"
      ]
     },
     "execution_count": 56,
     "metadata": {},
     "output_type": "execute_result"
    }
   ],
   "execution_count": 56
  },
  {
   "cell_type": "code",
   "id": "614e1826-2cd3-48b7-8099-4c9691afbafa",
   "metadata": {
    "ExecuteTime": {
     "end_time": "2024-04-08T04:11:49.357629Z",
     "start_time": "2024-04-08T04:11:49.350353Z"
    }
   },
   "source": [
    "len(generator)"
   ],
   "outputs": [
    {
     "data": {
      "text/plain": [
       "895"
      ]
     },
     "execution_count": 57,
     "metadata": {},
     "output_type": "execute_result"
    }
   ],
   "execution_count": 57
  },
  {
   "cell_type": "code",
   "id": "73fa5514-900d-4e93-bafc-58f55957904c",
   "metadata": {
    "ExecuteTime": {
     "end_time": "2024-04-08T04:11:49.364941Z",
     "start_time": "2024-04-08T04:11:49.358588Z"
    }
   },
   "source": [
    "generator[0]"
   ],
   "outputs": [
    {
     "data": {
      "text/plain": [
       "(array([[[0.02771641, 0.        ],\n",
       "         [0.06326572, 0.03333333],\n",
       "         [0.05081342, 0.06666667],\n",
       "         [0.05864631, 0.1       ],\n",
       "         [0.19542077, 0.13333333],\n",
       "         [0.25527214, 0.16666667],\n",
       "         [0.25165696, 0.2       ]],\n",
       " \n",
       "        [[0.06326572, 0.03333333],\n",
       "         [0.05081342, 0.06666667],\n",
       "         [0.05864631, 0.1       ],\n",
       "         [0.19542077, 0.13333333],\n",
       "         [0.25527214, 0.16666667],\n",
       "         [0.25165696, 0.2       ],\n",
       "         [0.01285399, 0.23333333]]]),\n",
       " array([[0.01285399, 0.23333333],\n",
       "        [0.03996787, 0.26666667]]))"
      ]
     },
     "execution_count": 58,
     "metadata": {},
     "output_type": "execute_result"
    }
   ],
   "execution_count": 58
  },
  {
   "cell_type": "code",
   "id": "2373b5dd-013a-4c49-8faa-3a5f15746379",
   "metadata": {
    "ExecuteTime": {
     "end_time": "2024-04-08T04:11:49.374030Z",
     "start_time": "2024-04-08T04:11:49.366832Z"
    }
   },
   "source": [
    "generator[0][0].shape"
   ],
   "outputs": [
    {
     "data": {
      "text/plain": [
       "(2, 7, 2)"
      ]
     },
     "execution_count": 59,
     "metadata": {},
     "output_type": "execute_result"
    }
   ],
   "execution_count": 59
  },
  {
   "cell_type": "code",
   "id": "8bbe62c0-f6b2-41b4-a66f-418c9aac2eb4",
   "metadata": {
    "ExecuteTime": {
     "end_time": "2024-04-08T04:11:49.381236Z",
     "start_time": "2024-04-08T04:11:49.376460Z"
    }
   },
   "source": [
    "generator[0][1].shape"
   ],
   "outputs": [
    {
     "data": {
      "text/plain": [
       "(2, 2)"
      ]
     },
     "execution_count": 60,
     "metadata": {},
     "output_type": "execute_result"
    }
   ],
   "execution_count": 60
  },
  {
   "cell_type": "code",
   "id": "f207d1bc-5e84-4a39-84a2-2912e1341f89",
   "metadata": {
    "tags": [],
    "ExecuteTime": {
     "end_time": "2024-04-08T04:12:05.042166Z",
     "start_time": "2024-04-08T04:12:05.039190Z"
    }
   },
   "source": "n_features=len(df.columns)",
   "outputs": [],
   "execution_count": 62
  },
  {
   "cell_type": "markdown",
   "id": "5f205b8d-b6dc-42d3-ba75-61d7ba8dbf03",
   "metadata": {},
   "source": [
    "# Create the Model"
   ]
  },
  {
   "cell_type": "code",
   "id": "473cbd76-0307-49a5-8569-74a2e90e44f9",
   "metadata": {
    "ExecuteTime": {
     "end_time": "2024-04-08T04:12:05.296803Z",
     "start_time": "2024-04-08T04:12:05.084658Z"
    }
   },
   "source": [
    "from keras.models import Sequential\n",
    "from keras.layers import Dense\n",
    "from keras.layers import LSTM\n",
    "\n",
    "model = Sequential()\n",
    "model.add(LSTM(100, activation='relu', input_shape=(n_input, n_features)))\n",
    "model.add(Dense(1))\n",
    "model.compile(optimizer='adam', loss='mse')\n",
    "\n",
    "model.summary()"
   ],
   "outputs": [
    {
     "name": "stdout",
     "output_type": "stream",
     "text": [
      "WARNING:tensorflow:Layer lstm_2 will not use cuDNN kernels since it doesn't meet the criteria. It will use a generic GPU kernel as fallback when running on GPU.\n",
      "Model: \"sequential_2\"\n",
      "_________________________________________________________________\n",
      " Layer (type)                Output Shape              Param #   \n",
      "=================================================================\n",
      " lstm_2 (LSTM)               (None, 100)               41200     \n",
      "                                                                 \n",
      " dense_2 (Dense)             (None, 1)                 101       \n",
      "                                                                 \n",
      "=================================================================\n",
      "Total params: 41301 (161.33 KB)\n",
      "Trainable params: 41301 (161.33 KB)\n",
      "Non-trainable params: 0 (0.00 Byte)\n",
      "_________________________________________________________________\n"
     ]
    }
   ],
   "execution_count": 63
  },
  {
   "cell_type": "code",
   "id": "fc13546f-5922-48a3-b93d-bd7dca69b789",
   "metadata": {
    "ExecuteTime": {
     "end_time": "2024-04-08T04:45:29.770633Z",
     "start_time": "2024-04-08T04:12:05.302916Z"
    }
   },
   "source": "model.fit(generator,epochs=30)\n",
   "outputs": [
    {
     "name": "stdout",
     "output_type": "stream",
     "text": [
      "Epoch 1/30\n"
     ]
    },
    {
     "name": "stderr",
     "output_type": "stream",
     "text": [
      "2024-04-08 00:12:06.611368: I tensorflow/core/grappler/optimizers/custom_graph_optimizer_registry.cc:114] Plugin optimizer for device_type GPU is enabled.\n"
     ]
    },
    {
     "name": "stdout",
     "output_type": "stream",
     "text": [
      "895/895 [==============================] - 96s 102ms/step - loss: 0.0598\n",
      "Epoch 2/30\n",
      "895/895 [==============================] - 90s 101ms/step - loss: 0.0531\n",
      "Epoch 3/30\n",
      "895/895 [==============================] - 91s 102ms/step - loss: 0.0515\n",
      "Epoch 4/30\n",
      "895/895 [==============================] - 90s 101ms/step - loss: 0.0505\n",
      "Epoch 5/30\n",
      "895/895 [==============================] - 90s 101ms/step - loss: 0.0503\n",
      "Epoch 6/30\n",
      "895/895 [==============================] - 89s 99ms/step - loss: 0.0498\n",
      "Epoch 7/30\n",
      "895/895 [==============================] - 90s 101ms/step - loss: 0.0494\n",
      "Epoch 8/30\n",
      "895/895 [==============================] - 90s 101ms/step - loss: 0.0496\n",
      "Epoch 9/30\n",
      "895/895 [==============================] - 82s 91ms/step - loss: 0.0492\n",
      "Epoch 10/30\n",
      "895/895 [==============================] - 57s 64ms/step - loss: 0.0493\n",
      "Epoch 11/30\n",
      "895/895 [==============================] - 57s 63ms/step - loss: 0.0490\n",
      "Epoch 12/30\n",
      "895/895 [==============================] - 57s 64ms/step - loss: 0.0484\n",
      "Epoch 13/30\n",
      "895/895 [==============================] - 57s 64ms/step - loss: 0.0485\n",
      "Epoch 14/30\n",
      "895/895 [==============================] - 58s 65ms/step - loss: 0.0482\n",
      "Epoch 15/30\n",
      "895/895 [==============================] - 57s 63ms/step - loss: 0.0482\n",
      "Epoch 16/30\n",
      "895/895 [==============================] - 56s 63ms/step - loss: 0.0481\n",
      "Epoch 17/30\n",
      "895/895 [==============================] - 56s 62ms/step - loss: 0.0480\n",
      "Epoch 18/30\n",
      "895/895 [==============================] - 57s 63ms/step - loss: 0.0480\n",
      "Epoch 19/30\n",
      "895/895 [==============================] - 57s 64ms/step - loss: 0.0477\n",
      "Epoch 20/30\n",
      "895/895 [==============================] - 57s 64ms/step - loss: 0.0474\n",
      "Epoch 21/30\n",
      "895/895 [==============================] - 57s 64ms/step - loss: 0.0473\n",
      "Epoch 22/30\n",
      "895/895 [==============================] - 57s 64ms/step - loss: 0.0472\n",
      "Epoch 23/30\n",
      "895/895 [==============================] - 58s 64ms/step - loss: 0.0470\n",
      "Epoch 24/30\n",
      "895/895 [==============================] - 57s 64ms/step - loss: 0.0473\n",
      "Epoch 25/30\n",
      "895/895 [==============================] - 57s 64ms/step - loss: 0.0471\n",
      "Epoch 26/30\n",
      "895/895 [==============================] - 56s 63ms/step - loss: 0.0473\n",
      "Epoch 27/30\n",
      "895/895 [==============================] - 57s 64ms/step - loss: 0.0488\n",
      "Epoch 28/30\n",
      "895/895 [==============================] - 57s 63ms/step - loss: 0.0470\n",
      "Epoch 29/30\n",
      "895/895 [==============================] - 56s 62ms/step - loss: 0.0472\n",
      "Epoch 30/30\n",
      "895/895 [==============================] - 57s 64ms/step - loss: 0.0473\n"
     ]
    },
    {
     "data": {
      "text/plain": [
       "<keras.src.callbacks.History at 0x37a519d50>"
      ]
     },
     "execution_count": 64,
     "metadata": {},
     "output_type": "execute_result"
    }
   ],
   "execution_count": 64
  },
  {
   "cell_type": "code",
   "id": "fda72b1f-2a04-461e-ae5c-b70697b63776",
   "metadata": {
    "ExecuteTime": {
     "end_time": "2024-04-08T04:45:29.869764Z",
     "start_time": "2024-04-08T04:45:29.773420Z"
    }
   },
   "source": [
    "loss_per_epoch = model.history.history['loss']\n",
    "plt.plot(range(len(loss_per_epoch)),loss_per_epoch)"
   ],
   "outputs": [
    {
     "data": {
      "text/plain": [
       "[<matplotlib.lines.Line2D at 0x38cb49590>]"
      ]
     },
     "execution_count": 65,
     "metadata": {},
     "output_type": "execute_result"
    },
    {
     "data": {
      "text/plain": [
       "<Figure size 640x480 with 1 Axes>"
      ],
      "image/png": "[encoded data removed]"
     },
     "metadata": {},
     "output_type": "display_data"
    }
   ],
   "execution_count": 65
  },
  {
   "cell_type": "markdown",
   "id": "4654ac21-0472-428d-85af-4fcb81229009",
   "metadata": {},
   "source": [
    "## Evaulate the test data"
   ]
  },
  {
   "cell_type": "code",
   "id": "8cb27f52-30b9-4e03-8d14-249c860f56ab",
   "metadata": {
    "ExecuteTime": {
     "end_time": "2024-04-08T04:45:30.086374Z",
     "start_time": "2024-04-08T04:45:29.871483Z"
    }
   },
   "source": [
    "first_eval_batch = scaled_train[-7:]\n",
    "first_eval_batch = first_eval_batch.reshape((1, n_input, n_features))\n",
    "model.predict(first_eval_batch)\n",
    "\n",
    "first_eval_batch = scaled_train[-n_input:]\n",
    "current_batch = first_eval_batch.reshape((1, n_input, n_features))\n",
    "\n"
   ],
   "outputs": [
    {
     "name": "stdout",
     "output_type": "stream",
     "text": [
      "1/1 [==============================] - 0s 175ms/step\n"
     ]
    },
    {
     "name": "stderr",
     "output_type": "stream",
     "text": [
      "2024-04-08 00:45:30.017816: I tensorflow/core/grappler/optimizers/custom_graph_optimizer_registry.cc:114] Plugin optimizer for device_type GPU is enabled.\n"
     ]
    }
   ],
   "execution_count": 66
  },
  {
   "cell_type": "code",
   "id": "8e38936f-b6db-4032-9eb4-d145d89debc9",
   "metadata": {
    "ExecuteTime": {
     "end_time": "2024-04-08T04:45:30.089731Z",
     "start_time": "2024-04-08T04:45:30.087566Z"
    }
   },
   "source": [
    "current_batch.shape"
   ],
   "outputs": [
    {
     "data": {
      "text/plain": [
       "(1, 7, 2)"
      ]
     },
     "execution_count": 67,
     "metadata": {},
     "output_type": "execute_result"
    }
   ],
   "execution_count": 67
  },
  {
   "cell_type": "code",
   "id": "c29ee3a0-4500-4c75-a99a-f0aace5999dc",
   "metadata": {
    "ExecuteTime": {
     "end_time": "2024-04-08T18:12:23.676498Z",
     "start_time": "2024-04-08T18:12:23.562577Z"
    }
   },
   "source": "np.append(current_batch[:,1:,:],[[[2,7]]],axis=1)",
   "outputs": [
    {
     "ename": "NameError",
     "evalue": "name 'current_batch' is not defined",
     "output_type": "error",
     "traceback": [
      "\u001B[0;31m---------------------------------------------------------------------------\u001B[0m",
      "\u001B[0;31mNameError\u001B[0m                                 Traceback (most recent call last)",
      "Cell \u001B[0;32mIn[3], line 1\u001B[0m\n\u001B[0;32m----> 1\u001B[0m np\u001B[38;5;241m.\u001B[39mappend(\u001B[43mcurrent_batch\u001B[49m[:,\u001B[38;5;241m1\u001B[39m:,:],[[[\u001B[38;5;241m2\u001B[39m,\u001B[38;5;241m7\u001B[39m]]],axis\u001B[38;5;241m=\u001B[39m\u001B[38;5;241m1\u001B[39m)\n",
      "\u001B[0;31mNameError\u001B[0m: name 'current_batch' is not defined"
     ]
    }
   ],
   "execution_count": 3
  },
  {
   "cell_type": "code",
   "id": "9d3fe239-f98b-448d-9fcd-0bb691740dcc",
   "metadata": {
    "ExecuteTime": {
     "end_time": "2024-04-08T04:45:30.183108Z",
     "start_time": "2024-04-08T04:45:30.183049Z"
    }
   },
   "source": [
    "test_predictions = []\n",
    "\n",
    "first_eval_batch = scaled_train[-n_input:]\n",
    "current_batch = first_eval_batch.reshape((1, n_input, n_features))\n",
    "# go beyond len(test) to go into the unknown future (no way to measure success except wait!)\n",
    "for i in range(len(test)):\n",
    "    \n",
    "    # get prediction 1 time stamp ahead ([0] is for grabbing just the number instead of [array])\n",
    "    current_pred = model.predict(current_batch)[0]\n",
    "    \n",
    "    # store prediction\n",
    "    test_predictions.append(current_pred) \n",
    "    \n",
    "    # update batch to now include prediction and drop first value\n",
    "    current_batch = np.append(current_batch[:,1:,:],[[current_pred]],axis=1)"
   ],
   "outputs": [],
   "execution_count": null
  },
  {
   "cell_type": "markdown",
   "id": "d4873ac6-8478-4ee6-acf4-82410e1c8517",
   "metadata": {},
   "source": [
    "## Inverse predictions and compare"
   ]
  },
  {
   "cell_type": "code",
   "id": "6eb9fc5c-51a2-424e-802d-3203cabe87de",
   "metadata": {},
   "source": [
    "true_predictions = scaler.inverse_transform(test_predictions)\n",
    "test['Predictions'] = true_predictions"
   ],
   "outputs": [],
   "execution_count": null
  },
  {
   "metadata": {},
   "cell_type": "code",
   "source": "test.head()",
   "id": "a68f4d6413c88d9e",
   "outputs": [],
   "execution_count": null
  },
  {
   "cell_type": "code",
   "id": "5f23a17c-fb2e-4dff-822b-1eeb5e4a255e",
   "metadata": {},
   "source": "test.plot(figsize=(12,8))",
   "outputs": [],
   "execution_count": null
  },
  {
   "cell_type": "code",
   "id": "baa00c42-832f-4b10-af70-67e59593e093",
   "metadata": {},
   "source": [
    "from sklearn.metrics import mean_squared_error\n",
    "from math import sqrt\n",
    "rmse=sqrt(mean_squared_error(test['trans_per_day'], test['Predictions']))\n",
    "mse=mean_squared_error(test['trans_per_day'], test['Predictions'])\n",
    "print(rmse)\n",
    "print(mse)"
   ],
   "outputs": [],
   "execution_count": null
  }
 ],
 "metadata": {
  "kernelspec": {
   "display_name": "Python 3 (ipykernel)",
   "language": "python",
   "name": "python3"
  },
  "language_info": {
   "codemirror_mode": {
    "name": "ipython",
    "version": 3
   },
   "file_extension": ".py",
   "mimetype": "text/x-python",
   "name": "python",
   "nbconvert_exporter": "python",
   "pygments_lexer": "ipython3",
   "version": "3.11.7"
  }
 },
 "nbformat": 4,
 "nbformat_minor": 5
}
