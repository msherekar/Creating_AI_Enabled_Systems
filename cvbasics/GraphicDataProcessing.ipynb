{
 "cells": [
  {
   "cell_type": "code",
   "execution_count": 3,
   "id": "e9cd1ba0-be7b-4111-a94b-e3085d051ff4",
   "metadata": {},
   "outputs": [],
   "source": [
    "import cv2 as cv\n",
    "from scipy import ndimage\n",
    "from skimage.util import random_noise\n",
    "import numpy as np\n",
    "\n",
    "class ObjectDetection:\n",
    "    def __init__(self, img):\n",
    "        #self.img = img\n",
    "        if isinstance(img, np.ndarray) and len(img.shape) == 3:\n",
    "            self.img = img\n",
    "        else:\n",
    "            raise ValueError(\"Invalid image format or dimensions\")\n",
    "\n",
    "\n",
    "    def shape(self):\n",
    "        \n",
    "        if self.img.shape is not None:\n",
    "            shape = self.img.shape\n",
    "            print(\"Original Shape:\", shape)\n",
    "        else:\n",
    "            print(\"Failed to read the image.\")\n",
    "            \n",
    "    def resize(self, new_size):\n",
    "        self.img = cv.resize(self.img, new_size)\n",
    "        \n",
    "        if isinstance(self.img, type(None)):\n",
    "            print(\"Failed to resize the image. Image not resized.\")\n",
    "        else:\n",
    "            \n",
    "            print(\"Resized Shape:\", self.img.shape)\n",
    "    \n",
    "    def rotate(self, angle): # improve later; include anti-clockwise option\n",
    "        \n",
    "        self.img = ndimage.rotate(self.img, angle)\n",
    "        \n",
    "        if isinstance(self.img, type(None)):\n",
    "            print(\"Failed to rotate the image. Image not rotated.\")\n",
    "        else:\n",
    "            \n",
    "            print(f\"Image rotated {angle} degrees\") # this has to be changed later\n",
    "    \n",
    "    def noise_salt_pepper(self, amount):\n",
    "        \n",
    "        \n",
    "        if isinstance(self.img, type(None)):\n",
    "            print(\"Failed to add noise to the image.\")\n",
    "        else:\n",
    "            noisy_img = random_noise(self.img, mode='s&p', amount=amount)\n",
    "            noisy_img = np.array(255 * noisy_img, dtype='uint8')\n",
    "            print(f\"Salt & Pepper {amount} noise added\")\n",
    "    \n",
    "    def noise_gaussian(self, var): # variance\n",
    "        \n",
    "        if isinstance(self.img, type(None)):\n",
    "            print(\"Failed to add noise to the image.\")\n",
    "        else:\n",
    "            gaussy_img = random_noise(self.img, mode='gaussian', var=var)\n",
    "            gaussy_img = np.array(255 * gaussy_img, dtype='uint8')\n",
    "            print(f\"Gaussian noise with variance {var} added\")\n",
    "    \n",
    "    def noise_speckle(self,var): # amount = 0.02, 0.05, 0.1, 0.2 etc\n",
    "        \n",
    "        if isinstance(self.img, type(None)):\n",
    "            print(\"Failed to add noise to the image.\")\n",
    "        else:\n",
    "            speckled_img = random_noise(self.img, mode='speckle', var=var)\n",
    "            speckled_img = np.array(255 * speckled_img, dtype='uint8')\n",
    "            print(f\"Speckled noise with variance {var} added\")\n",
    "    \n",
    "    def change_loop(self,new_size,new_angle,noise): # newsize is a tuple\n",
    "        \n",
    "        if isinstance(self.img, type(None)):\n",
    "            print(\"Failed to modify the image.\")\n",
    "        else:\n",
    "            original_img = self.img.copy() # for reseting\n",
    "            self.img = cv.resize(original_img, new_size)\n",
    "            self.img = ndimage.rotate(self.img, new_angle)\n",
    "            \n",
    "            if noise == 'Gaussian':               \n",
    "                self.img =self.noise_gaussian(0.5)\n",
    "            elif noise =='Salt & Pepper':\n",
    "                self.img = self.noise_salt_pepper(0.5)\n",
    "            elif noise == 'Speckle':\n",
    "                self.img = self.noise_speckle(0.2)\n",
    "            print(\"Image is rotated, resized and {noise} added.\")\n",
    "        \n",
    "    def detect(self):                \n",
    "        \n",
    "        net = cv.dnn.readNet(\"yolov3.weights\", \"yolov3.cfg\")\n",
    "        ln = net.getLayerNames()\n",
    "        classes = []\n",
    "        with open(\"coco.names\", 'r') as f:\n",
    "            classes = [line.strip() for line in f.readlines()]\n",
    "        \n",
    "        layer_name = net.getLayerNames()\n",
    "        output_layer = [layer_name[i - 1] for i in net.getUnconnectedOutLayers()]\n",
    "        colors = np.random.uniform(0, 255, size=(len(classes), 3))\n",
    "                     \n",
    "\n",
    "        img = cv.resize(self.img, (416, 416))  # Add code to resize\n",
    "        height, width, channel = img.shape\n",
    "        #print(\"Resized Shape: \", img.shape)\n",
    "\n",
    "        # Define parameters\n",
    "        scale_factor = 1/255.0  # Scale factor to normalize pixel values to [0, 1]\n",
    "        size = (416, 416)       # Standard size for YOLO input\n",
    "        mean = (0, 0, 0)        # Mean subtraction (zero mean)\n",
    "        swapRB = True           # Swap Red and Blue channels\n",
    "\n",
    "        # Create blob from image\n",
    "        blob = cv.dnn.blobFromImage(img, scale_factor, size, mean, swapRB) # change\n",
    "\n",
    "        #detect objects\n",
    "        net.setInput(blob)\n",
    "        outs = net.forward(output_layer)\n",
    "\n",
    "        # Showing Information on the screen\n",
    "        class_ids = []\n",
    "        confidences = []\n",
    "        boxes = []\n",
    "        for out in outs:\n",
    "            for detection in out:\n",
    "                scores = detection[5:]\n",
    "                class_id = np.argmax(scores)\n",
    "                confidence = scores[class_id]\n",
    "                if confidence > 0.5:\n",
    "                    # Object detection\n",
    "                    center_x = int(detection[0] * width)\n",
    "                    center_y = int(detection[1] * height)\n",
    "                    w = int(detection[2] * width)\n",
    "                    h = int(detection[3] * height)\n",
    "                    # cv.circle(img, (center_x, center_y), 10, (0, 255, 0), 2 )\n",
    "                    # Reactangle Cordinate\n",
    "                    x = int(center_x - w/2)\n",
    "                    y = int(center_y - h/2)\n",
    "                    boxes.append([x, y, w, h])\n",
    "                    confidences.append(float(confidence))\n",
    "                    class_ids.append(class_id)\n",
    "\n",
    "        \n",
    "\n",
    "        indexes = cv.dnn.NMSBoxes(boxes, confidences, 0.5, 0.4)\n",
    "        for i in range(len(boxes)):\n",
    "            if i in indexes:\n",
    "                x, y, w, h = boxes[i]\n",
    "                label = str(classes[class_ids[i]])\n",
    "                return label, confidences[i]\n",
    "        \n",
    "\n",
    "        \n",
    "\n",
    "\n",
    "                \n",
    "                \n"
   ]
  },
  {
   "cell_type": "code",
   "execution_count": 4,
   "id": "8dbb8fb6-186a-4cb2-ae67-cb51b8644648",
   "metadata": {
    "tags": []
   },
   "outputs": [
    {
     "name": "stdout",
     "output_type": "stream",
     "text": [
      "Original Shape: (2229, 3344, 3)\n",
      "person 0.998009443283081\n"
     ]
    }
   ],
   "source": [
    "# Usage\n",
    "imagefile = \"bermuda.jpg\"\n",
    "reader = ObjectDetection(cv.imread(imagefile))\n",
    "reader.shape()\n",
    "\n",
    "findings = reader.detect()\n",
    "findingsString = findings[0]\n",
    "confidence = findings[1]\n",
    "    \n",
    "print(findingsString,confidence )"
   ]
  },
  {
   "cell_type": "code",
   "execution_count": null,
   "id": "c6c44374-c898-4a03-86db-c2d552dc69e6",
   "metadata": {},
   "outputs": [],
   "source": []
  },
  {
   "cell_type": "code",
   "execution_count": 5,
   "id": "5a901c27-e195-489a-924b-7ab6da574c86",
   "metadata": {
    "tags": []
   },
   "outputs": [
    {
     "name": "stdout",
     "output_type": "stream",
     "text": [
      "person 0.998009443283081\n"
     ]
    }
   ],
   "source": [
    "#imagefile = request.files.get('imagefile', '') == image_filename = \"bermuda.jpg\"\n",
    "imagefile = \"bermuda.jpg\"\n",
    "image = cv.imread(imagefile)\n",
    "\n",
    "ot = ObjectDetection(image) # == reader = ObjectDetection(cv.imread(imagefile))\n",
    "findings = ot.detect()\n",
    "\n",
    "# covert to useful string\n",
    "findingsString = findings[0]\n",
    "confidence = findings[1]\n",
    "    \n",
    "print(findingsString,confidence )"
   ]
  },
  {
   "cell_type": "code",
   "execution_count": 6,
   "id": "f07c8507-b4f3-48af-a66e-44f75c70823c",
   "metadata": {
    "tags": []
   },
   "outputs": [
    {
     "name": "stdout",
     "output_type": "stream",
     "text": [
      "Resized Shape: (416, 416, 3)\n",
      "Image rotated -90 degrees\n",
      "Salt & Pepper 0.5 noise added\n",
      "Gaussian noise with variance 0.5 added\n",
      "Speckled noise with variance 0.2 added\n",
      "Gaussian noise with variance 0.5 added\n",
      "Image is rotated, resized and {noise} added.\n"
     ]
    }
   ],
   "source": [
    "reader.resize((416, 416))\n",
    "reader.rotate(-90)\n",
    "reader.noise_salt_pepper(0.5)\n",
    "reader.noise_gaussian(0.5)\n",
    "reader.noise_speckle(0.2)\n",
    "reader.change_loop((220, 220), 180, 'Gaussian')\n",
    "\n"
   ]
  },
  {
   "cell_type": "code",
   "execution_count": 7,
   "id": "d7d00fdb-3bec-4551-b682-34a864932fba",
   "metadata": {},
   "outputs": [],
   "source": [
    "img = cv.imread(\"bermuda.jpg\")\n",
    "# Create an instance of ObjectDetection\n",
    "try:\n",
    "    obj_detection = ObjectDetection(img)\n",
    "    # Call the detect method\n",
    "    obj_detection.detect()\n",
    "except ValueError as e:\n",
    "    print(e)"
   ]
  },
  {
   "cell_type": "code",
   "execution_count": 8,
   "id": "4d4d766d-1149-48d2-93c7-bf8418647985",
   "metadata": {},
   "outputs": [
    {
     "data": {
      "text/plain": [
       "('person', 0.998009443283081)"
      ]
     },
     "execution_count": 8,
     "metadata": {},
     "output_type": "execute_result"
    }
   ],
   "source": [
    "obj_detection.detect()"
   ]
  }
 ],
 "metadata": {
  "kernelspec": {
   "display_name": "Python (en605645)",
   "language": "python",
   "name": "en605645"
  },
  "language_info": {
   "codemirror_mode": {
    "name": "ipython",
    "version": 3
   },
   "file_extension": ".py",
   "mimetype": "text/x-python",
   "name": "python",
   "nbconvert_exporter": "python",
   "pygments_lexer": "ipython3",
   "version": "3.11.7"
  }
 },
 "nbformat": 4,
 "nbformat_minor": 5
}
