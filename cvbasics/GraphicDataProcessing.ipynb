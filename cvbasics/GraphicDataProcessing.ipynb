{
 "cells": [
  {
   "cell_type": "code",
   "execution_count": 56,
   "id": "e9cd1ba0-be7b-4111-a94b-e3085d051ff4",
   "metadata": {},
   "outputs": [
    {
     "name": "stdout",
     "output_type": "stream",
     "text": [
      "Original Shape: (2229, 3344, 3)\n",
      "Resized Shape: (416, 416, 3)\n",
      "Image rotated -90 degrees\n",
      "Salt & Pepper 0.5 noise added\n",
      "Gaussian noise with variance 0.5 added\n",
      "Speckled noise with variance 0.2 added\n",
      "Gaussian noise with variance 0.5 added\n",
      "Image is rotated, resized and {noise} added.\n"
     ]
    }
   ],
   "source": [
    "import cv2 as cv\n",
    "from scipy import ndimage\n",
    "from skimage.util import random_noise\n",
    "import numpy as np\n",
    "\n",
    "class ObjectDetection:\n",
    "    def __init__(self, img):\n",
    "        #self.image_path = image_path\n",
    "        self.img = img\n",
    "\n",
    "    def shape(self):\n",
    "        shape = self.img.shape\n",
    "        if self.img is not None:\n",
    "            print(\"Original Shape:\", shape)\n",
    "        else:\n",
    "            print(\"Failed to read the image.\")\n",
    "            \n",
    "    def resize(self, new_size):\n",
    "        self.img = cv.resize(self.img, new_size)\n",
    "        \n",
    "        if isinstance(self.img, type(None)):\n",
    "            print(\"Failed to resize the image. Image not resized.\")\n",
    "        else:\n",
    "            \n",
    "            print(\"Resized Shape:\", self.img.shape)\n",
    "    \n",
    "    def rotate(self, angle): # improve later; include anti-clockwise option\n",
    "        \n",
    "        self.img = ndimage.rotate(self.img, angle)\n",
    "        \n",
    "        if isinstance(self.img, type(None)):\n",
    "            print(\"Failed to rotate the image. Image not rotated.\")\n",
    "        else:\n",
    "            \n",
    "            print(f\"Image rotated {angle} degrees\") # this has to be changed later\n",
    "    \n",
    "    def noise_salt_pepper(self, amount):\n",
    "        \n",
    "        \n",
    "        if isinstance(self.img, type(None)):\n",
    "            print(\"Failed to add noise to the image.\")\n",
    "        else:\n",
    "            noisy_img = random_noise(self.img, mode='s&p', amount=amount)\n",
    "            noisy_img = np.array(255 * noisy_img, dtype='uint8')\n",
    "            print(f\"Salt & Pepper {amount} noise added\")\n",
    "    \n",
    "    def noise_gaussian(self, var): # variance\n",
    "        \n",
    "        if isinstance(self.img, type(None)):\n",
    "            print(\"Failed to add noise to the image.\")\n",
    "        else:\n",
    "            gaussy_img = random_noise(self.img, mode='gaussian', var=var)\n",
    "            gaussy_img = np.array(255 * gaussy_img, dtype='uint8')\n",
    "            print(f\"Gaussian noise with variance {var} added\")\n",
    "    \n",
    "    def noise_speckle(self,var): # amount = 0.02, 0.05, 0.1, 0.2 etc\n",
    "        \n",
    "        if isinstance(self.img, type(None)):\n",
    "            print(\"Failed to add noise to the image.\")\n",
    "        else:\n",
    "            speckled_img = random_noise(self.img, mode='speckle', var=var)\n",
    "            speckled_img = np.array(255 * speckled_img, dtype='uint8')\n",
    "            print(f\"Speckled noise with variance {var} added\")\n",
    "    \n",
    "    def change_loop(self,new_size,new_angle,noise): # newsize is a tuple\n",
    "        \n",
    "        if isinstance(self.img, type(None)):\n",
    "            print(\"Failed to modify the image.\")\n",
    "        else:\n",
    "            original_img = self.img.copy() # for reseting\n",
    "            self.img = cv.resize(original_img, new_size)\n",
    "            self.img = ndimage.rotate(self.img, new_angle)\n",
    "            \n",
    "            if noise == 'Gaussian':               \n",
    "                self.img =self.noise_gaussian(0.5)\n",
    "            elif noise =='Salt & Pepper':\n",
    "                self.img = self.noise_salt_pepper(0.5)\n",
    "            elif noise == 'Speckle':\n",
    "                self.img = self.noise_speckle(0.2)\n",
    "            print(\"Image is rotated, resized and {noise} added.\")\n",
    "                \n",
    "                \n",
    "# Usage\n",
    "image_path = \"bermuda.jpg\"\n",
    "reader = ObjectDetection(cv.imread(img_path))\n",
    "reader.shape()\n",
    "reader.resize((416, 416))\n",
    "reader.rotate(-90)\n",
    "reader.noise_salt_pepper(0.5)\n",
    "reader.noise_gaussian(0.5)\n",
    "reader.noise_speckle(0.2)\n",
    "reader.change_loop((220, 220), 180, 'Gaussian')"
   ]
  },
  {
   "cell_type": "code",
   "execution_count": 23,
   "id": "8dbb8fb6-186a-4cb2-ae67-cb51b8644648",
   "metadata": {
    "tags": []
   },
   "outputs": [
    {
     "name": "stdout",
     "output_type": "stream",
     "text": [
      "shape (2229, 3344, 3)\n"
     ]
    }
   ],
   "source": []
  }
 ],
 "metadata": {
  "kernelspec": {
   "display_name": "Python (en605645)",
   "language": "python",
   "name": "en605645"
  },
  "language_info": {
   "codemirror_mode": {
    "name": "ipython",
    "version": 3
   },
   "file_extension": ".py",
   "mimetype": "text/x-python",
   "name": "python",
   "nbconvert_exporter": "python",
   "pygments_lexer": "ipython3",
   "version": "3.11.7"
  }
 },
 "nbformat": 4,
 "nbformat_minor": 5
}
